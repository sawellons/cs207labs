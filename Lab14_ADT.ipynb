{
 "cells": [
  {
   "cell_type": "markdown",
   "metadata": {},
   "source": [
    "## Interfaces and implementations lab\n",
    "\n",
    "In this lab, you will define an environment interface, which you will then proceed to use as a base for extending our calculator from last time with variables.\n",
    "\n",
    "We reproduce here (and simplify) some code from last time, that will enable us to create an expression tree..."
   ]
  },
  {
   "cell_type": "code",
   "execution_count": 1,
   "metadata": {
    "collapsed": false
   },
   "outputs": [],
   "source": [
    "def typer(token):\n",
    "    try:\n",
    "        t = int(token)\n",
    "        return t\n",
    "    except ValueError:\n",
    "        try:\n",
    "            t = float(token)\n",
    "            return t\n",
    "        except ValueError:\n",
    "            return str(token)\n",
    "        \n",
    "def lex(loc):\n",
    "    tokenlist =  loc.replace('(', ' ( ').replace(')', ' ) ').split()\n",
    "    return [typer(t) for t in tokenlist]\n",
    "\n",
    "def syn(tokens):\n",
    "    if len(tokens) == 0:\n",
    "        return []\n",
    "    token = tokens.pop(0)\n",
    "    if token == '(':\n",
    "        L = []\n",
    "        while tokens[0] != ')':\n",
    "            L.append(syn(tokens))\n",
    "        tokens.pop(0) # pop off ')'\n",
    "        return L\n",
    "    else:\n",
    "        if token==')':\n",
    "            assert 1, \"should not have got here\"\n",
    "        return token"
   ]
  },
  {
   "cell_type": "code",
   "execution_count": 2,
   "metadata": {
    "collapsed": false
   },
   "outputs": [],
   "source": [
    "def parse(loc):\n",
    "    return syn(lex(loc))"
   ]
  },
  {
   "cell_type": "code",
   "execution_count": 3,
   "metadata": {
    "collapsed": false
   },
   "outputs": [
    {
     "data": {
      "text/plain": [
       "['+', 1, 2.0, 3, 4, ['*', 34.1, 2]]"
      ]
     },
     "execution_count": 3,
     "metadata": {},
     "output_type": "execute_result"
    }
   ],
   "source": [
    "parse('(+ 1 2.0 3 4 (* 34.1 2))')"
   ]
  },
  {
   "cell_type": "markdown",
   "metadata": {},
   "source": [
    "Notice that instead of using our BinaryTree class from last time, we are simply using embedded lists..\n",
    "\n",
    "We'll assign variables using the `let` form.."
   ]
  },
  {
   "cell_type": "code",
   "execution_count": 4,
   "metadata": {
    "collapsed": false
   },
   "outputs": [
    {
     "data": {
      "text/plain": [
       "['let', 'a', 5.5]"
      ]
     },
     "execution_count": 4,
     "metadata": {},
     "output_type": "execute_result"
    }
   ],
   "source": [
    "parse('(let a 5.5)')"
   ]
  },
  {
   "cell_type": "markdown",
   "metadata": {},
   "source": [
    "### Informal Spec for the calculator\n",
    "\n",
    "Let us write down an informal spec for our calculator language\n",
    "\n",
    "- it will work in in-fix notation\n",
    "- we support all kinds of numbers\n",
    "- it only supports unarybinary operations from the math module (see below)\n",
    "- we also support +/-/truediv/x/max/min/round\n",
    "- there is no notion of booleans or None yet (although we will see a None leak in)\n",
    "- we support variable assignment with `(let a (+ 1 2))` for example\n",
    "- there is only one environment in which bindings are made\n",
    "- while we have numbers coming in, all our output is in python, and is only reflected in our language via `let`"
   ]
  },
  {
   "cell_type": "code",
   "execution_count": 5,
   "metadata": {
    "collapsed": false
   },
   "outputs": [
    {
     "data": {
      "text/plain": [
       "{'__doc__': 'This module is always available.  It provides access to the\\nmathematical functions defined by the C standard.',\n",
       " '__file__': '//anaconda/lib/python3.5/lib-dynload/math.cpython-35m-darwin.so',\n",
       " '__loader__': <_frozen_importlib_external.ExtensionFileLoader at 0x102ac1390>,\n",
       " '__name__': 'math',\n",
       " '__package__': '',\n",
       " '__spec__': ModuleSpec(name='math', loader=<_frozen_importlib_external.ExtensionFileLoader object at 0x102ac1390>, origin='//anaconda/lib/python3.5/lib-dynload/math.cpython-35m-darwin.so'),\n",
       " 'acos': <function math.acos>,\n",
       " 'acosh': <function math.acosh>,\n",
       " 'asin': <function math.asin>,\n",
       " 'asinh': <function math.asinh>,\n",
       " 'atan': <function math.atan>,\n",
       " 'atan2': <function math.atan2>,\n",
       " 'atanh': <function math.atanh>,\n",
       " 'ceil': <function math.ceil>,\n",
       " 'copysign': <function math.copysign>,\n",
       " 'cos': <function math.cos>,\n",
       " 'cosh': <function math.cosh>,\n",
       " 'degrees': <function math.degrees>,\n",
       " 'e': 2.718281828459045,\n",
       " 'erf': <function math.erf>,\n",
       " 'erfc': <function math.erfc>,\n",
       " 'exp': <function math.exp>,\n",
       " 'expm1': <function math.expm1>,\n",
       " 'fabs': <function math.fabs>,\n",
       " 'factorial': <function math.factorial>,\n",
       " 'floor': <function math.floor>,\n",
       " 'fmod': <function math.fmod>,\n",
       " 'frexp': <function math.frexp>,\n",
       " 'fsum': <function math.fsum>,\n",
       " 'gamma': <function math.gamma>,\n",
       " 'gcd': <function math.gcd>,\n",
       " 'hypot': <function math.hypot>,\n",
       " 'inf': inf,\n",
       " 'isclose': <function math.isclose>,\n",
       " 'isfinite': <function math.isfinite>,\n",
       " 'isinf': <function math.isinf>,\n",
       " 'isnan': <function math.isnan>,\n",
       " 'ldexp': <function math.ldexp>,\n",
       " 'lgamma': <function math.lgamma>,\n",
       " 'log': <function math.log>,\n",
       " 'log10': <function math.log10>,\n",
       " 'log1p': <function math.log1p>,\n",
       " 'log2': <function math.log2>,\n",
       " 'modf': <function math.modf>,\n",
       " 'nan': nan,\n",
       " 'pi': 3.141592653589793,\n",
       " 'pow': <function math.pow>,\n",
       " 'radians': <function math.radians>,\n",
       " 'sin': <function math.sin>,\n",
       " 'sinh': <function math.sinh>,\n",
       " 'sqrt': <function math.sqrt>,\n",
       " 'tan': <function math.tan>,\n",
       " 'tanh': <function math.tanh>,\n",
       " 'trunc': <function math.trunc>}"
      ]
     },
     "execution_count": 5,
     "metadata": {},
     "output_type": "execute_result"
    }
   ],
   "source": [
    "import math\n",
    "vars(math)"
   ]
  },
  {
   "cell_type": "markdown",
   "metadata": {},
   "source": [
    "### Q1.\n",
    "\n",
    "Here is an Environment ABC which defines the following abstract methods "
   ]
  },
  {
   "cell_type": "code",
   "execution_count": 7,
   "metadata": {
    "collapsed": false
   },
   "outputs": [],
   "source": [
    "import abc\n",
    "class Environment(abc.ABC):\n",
    "    \"\"\"\n",
    "    This is the interface for an Environment. The client for \n",
    "    this interface is a language intepreter. \n",
    "    \"\"\"\n",
    "    @classmethod\n",
    "    @abc.abstractmethod\n",
    "    def empty(cls):\n",
    "        return cls()\n",
    "    \n",
    "    @abc.abstractmethod\n",
    "    def extend(self, variable, value):\n",
    "        \"\"\"\n",
    "        extend an existing environment by binding variable to value.\n",
    "        The values must be an acceptable value in the language. If the\n",
    "        same variable is used twice the newer value must be bound.\n",
    "        \"\"\"\n",
    "    \n",
    "    @abc.abstractmethod\n",
    "    def extend_many(self, envdict):\n",
    "        \"\"\"\n",
    "        extend the current environment by values in the dictionary\n",
    "        envdict. If the dictionary contains variables already in the\n",
    "        environment, the newer values from the dictionary are bound\n",
    "        \"\"\"\n",
    "        \n",
    "    @abc.abstractmethod\n",
    "    def lookup(variable):\n",
    "        \"\"\"\n",
    "        return the unique binding of the variable in the current \n",
    "        environment. If it is not found raise a NameError as below\n",
    "        \"\"\"\n",
    "        raise NameError(\"{} not found in Environment\".format(variable))"
   ]
  },
  {
   "cell_type": "markdown",
   "metadata": {},
   "source": [
    "Here is the Linked list class from a few labs back. We'll use a linked list as a repository for bindings. We will consider an implementation where newer bindings for existing variables occur closer to the head in the linked list. Notice that we added a `repOK` which is an identity function. Take care to see where it is used."
   ]
  },
  {
   "cell_type": "code",
   "execution_count": 8,
   "metadata": {
    "collapsed": false
   },
   "outputs": [],
   "source": [
    "import reprlib, numbers\n",
    "\n",
    "\n",
    "class LL:\n",
    "    \"\"\"\n",
    "    >>> A = LL()  \n",
    "    >>> A[0]\n",
    "    Traceback (most recent call last):\n",
    "        ...\n",
    "    IndexError: trying to index an empty LL\n",
    "    >>> A.insert_front(1)\n",
    "    >>> A[0]\n",
    "    1\n",
    "    >>> A.insert_back(2)\n",
    "    >>> A[1]\n",
    "    2\n",
    "    >>> A\n",
    "    LL([1,...])\n",
    "    >>> myll = LL.from_components([1,2])\n",
    "    >>> myll[1]\n",
    "    1\n",
    "    >>> len(myll)\n",
    "    2\n",
    "    >>> myll[2]\n",
    "    Traceback (most recent call last):\n",
    "        ...\n",
    "    IndexError: LL index out of range\n",
    "    >>> myll[0:1]\n",
    "    Traceback (most recent call last):\n",
    "        ...\n",
    "    TypeError: LL indices must be integers\n",
    "    \"\"\"\n",
    "    @classmethod\n",
    "    def from_components(cls, components):\n",
    "        inst = cls(components[0])\n",
    "        for c in components[1:]:\n",
    "            inst.insert_front(c)\n",
    "        return inst\n",
    "        \n",
    "    def repOK(self, element):\n",
    "        return element\n",
    "    \n",
    "    def __init__(self, head=None):\n",
    "        if head is None:\n",
    "            self._headNode = None\n",
    "        else:\n",
    "            head = self.repOK(head)\n",
    "            self._headNode = [head, None]\n",
    "            \n",
    "    def insert_front(self, element):\n",
    "        element = self.repOK(element)\n",
    "        new_node = [element, None]\n",
    "        new_node[1] = self._headNode\n",
    "        self._headNode = new_node\n",
    "        \n",
    "    def insert_back(self, element):\n",
    "        element = self.repOK(element)\n",
    "        new_node = [element, None]\n",
    "        curr_ptr = self._headNode\n",
    "        while curr_ptr[1] is not None:\n",
    "            curr_ptr = curr_ptr[1]\n",
    "        curr_ptr[1]= new_node\n",
    "        \n",
    "    def __repr__(self):\n",
    "        class_name = type(self).__name__\n",
    "        if len(self)==0:\n",
    "            components=\"\"\n",
    "        else:\n",
    "            components = reprlib.repr(self[0])\n",
    "        return '{}([{},...])'.format(class_name,components)\n",
    "\n",
    "\n",
    "    def __len__(self):\n",
    "        curr_ptr = self._headNode\n",
    "        count = 0\n",
    "        if curr_ptr==None:\n",
    "            return 0\n",
    "        while 1:\n",
    "            count = count + 1\n",
    "            if curr_ptr[1] is None:\n",
    "                break\n",
    "            curr_ptr = curr_ptr[1]\n",
    "        return count    \n",
    "    \n",
    "    def __getitem__(self, index):\n",
    "        class_name = type(self).__name__\n",
    "        if isinstance(index, numbers.Integral): \n",
    "            curr_ptr = self._headNode\n",
    "            if curr_ptr==None:\n",
    "                msg = 'trying to index an empty {class_name}' \n",
    "                raise IndexError(msg.format(class_name=class_name))\n",
    "            next_ptr = self._headNode[1]\n",
    "            count = 0\n",
    "            while 1:\n",
    "                if index == count:\n",
    "                    return curr_ptr[0]\n",
    "                if curr_ptr[1] is None:\n",
    "                    msg = '{class_name} index out of range' \n",
    "                    raise IndexError(msg.format(class_name=class_name))       \n",
    "                count += 1\n",
    "                curr_ptr = curr_ptr[1]\n",
    "        else:\n",
    "            msg = '{class_name} indices must be integers' \n",
    "            raise TypeError(msg.format(class_name=class_name))\n",
    "         \n",
    "    def index(self, element):\n",
    "        class_name = type(self).__name__\n",
    "        curr_ptr = self._headNode\n",
    "        count = 0\n",
    "        if curr_ptr==None:\n",
    "            msg = 'trying to get index from empty {class_name}' \n",
    "            raise IndexError(msg.format(class_name=class_name))\n",
    "        while 1:\n",
    "            if curr_ptr[0] == element:\n",
    "                return count\n",
    "            if curr_ptr[1] is None:\n",
    "                msg = '{element} is not in {class_name}' \n",
    "                raise ValueError(msg.format(element=element, class_name=class_name))\n",
    "            count += 1\n",
    "            curr_ptr = curr_ptr[1]\n",
    "            \n",
    "    def remove(self, element):\n",
    "        class_name = type(self).__name__\n",
    "        curr_ptr = self._headNode\n",
    "        prev_ptr = None\n",
    "        if curr_ptr==None:\n",
    "            msg = 'remove from empty {class_name}' \n",
    "            raise IndexError(msg.format(class_name=class_name))\n",
    "        while 1:\n",
    "            if curr_ptr[0] == element:\n",
    "                if prev_ptr is None:\n",
    "                    self._headNode = curr_ptr[1]\n",
    "                else:\n",
    "                    prev_ptr[1] = curr_ptr[1]\n",
    "                return None\n",
    "            if curr_ptr[1] is None:\n",
    "                msg = '{element} is not in {class_name}' \n",
    "                raise ValueError(msg.format(element=element, class_name=class_name))\n",
    "            prev_ptr=curr_ptr\n",
    "            curr_ptr = curr_ptr[1]\n",
    "        \n",
    "    def remove_front(self):\n",
    "        class_name = type(self).__name__\n",
    "        curr_ptr = self._headNode\n",
    "        if curr_ptr==None:\n",
    "            msg = 'remove from empty {class_name}' \n",
    "            raise IndexError(msg.format(class_name=class_name))\n",
    "        self._headNode = curr_ptr[1]\n",
    "        return curr_ptr[0]\n",
    "    "
   ]
  },
  {
   "cell_type": "markdown",
   "metadata": {},
   "source": [
    "### Q1.\n",
    "\n",
    "Inherit from class `LL` to create a TupleLL where the values in the linked list are tuples of the type `(key, value)`. After inheriting, add an additional method `first_match` which returns a tuple `(index_of_nearest_element, nearest element)` to the head where the first member of the tuple matches `key`. Also add another method `all_matches` which returns a list of tuples of allmatches, sorted by distance to head. Currently, the structure of the other methods in the linked list do not need to know about this 2-element tuple restriction on the elements. "
   ]
  },
  {
   "cell_type": "code",
   "execution_count": 22,
   "metadata": {
    "collapsed": true
   },
   "outputs": [],
   "source": [
    "class TupleLL(LL):\n",
    "    \"\"\"\n",
    "    A linked list whose elements must be tuples.\n",
    "    \n",
    "    RepInv: any insertion should leave a list with only tuples as members.\n",
    "    \"\"\"\n",
    "    #could be implemented using a check on the whole list\n",
    "    def repOK(self, element):\n",
    "        assert isinstance(element, tuple), \"element needs to be a tuple\"\n",
    "        return element\n",
    "\n",
    "    def first_match(self, key):\n",
    "        index = 0\n",
    "        curr_ptr = self._headNode\n",
    "        while curr_ptr is not None:\n",
    "            if curr_ptr[0][0] == key:\n",
    "                return (index,curr_ptr[0])\n",
    "            index += 1\n",
    "            curr_ptr = curr_ptr[1]\n",
    "        return None\n",
    "    \n",
    "    def all_matches(self, key):\n",
    "        matchlist = []\n",
    "        index = 0\n",
    "        curr_ptr = self._headNode\n",
    "        while curr_ptr is not None:\n",
    "            if curr_ptr[0][0] == key:\n",
    "                matchlist.append(curr_ptr[0])\n",
    "            index += 1\n",
    "            curr_ptr = curr_ptr[1]\n",
    "        return matchlist"
   ]
  },
  {
   "cell_type": "code",
   "execution_count": 23,
   "metadata": {
    "collapsed": false
   },
   "outputs": [
    {
     "name": "stdout",
     "output_type": "stream",
     "text": [
      "(0, ('a', 1))\n",
      "[('a', 1)]\n",
      "(0, ('a', 3))\n",
      "[('a', 3), ('a', 1)]\n"
     ]
    }
   ],
   "source": [
    "l = TupleLL()\n",
    "l.insert_front(('a', 1))\n",
    "print(l.first_match('a'))\n",
    "print(l.all_matches('a'))\n",
    "l.insert_front(('a', 3))\n",
    "print(l.first_match('a'))\n",
    "print(l.all_matches('a'))"
   ]
  },
  {
   "cell_type": "code",
   "execution_count": 24,
   "metadata": {
    "collapsed": false
   },
   "outputs": [
    {
     "data": {
      "text/plain": [
       "TupleLL([('a', 3),...])"
      ]
     },
     "execution_count": 24,
     "metadata": {},
     "output_type": "execute_result"
    }
   ],
   "source": [
    "l"
   ]
  },
  {
   "cell_type": "code",
   "execution_count": 12,
   "metadata": {
    "collapsed": false
   },
   "outputs": [
    {
     "ename": "AssertionError",
     "evalue": "element needs to be a tuple",
     "output_type": "error",
     "traceback": [
      "\u001b[0;31m---------------------------------------------------------------------------\u001b[0m",
      "\u001b[0;31mAssertionError\u001b[0m                            Traceback (most recent call last)",
      "\u001b[0;32m<ipython-input-12-53aaefcd81ba>\u001b[0m in \u001b[0;36m<module>\u001b[0;34m()\u001b[0m\n\u001b[0;32m----> 1\u001b[0;31m \u001b[0ml\u001b[0m\u001b[0;34m.\u001b[0m\u001b[0minsert_front\u001b[0m\u001b[0;34m(\u001b[0m\u001b[0;36m3\u001b[0m\u001b[0;34m)\u001b[0m\u001b[0;34m\u001b[0m\u001b[0m\n\u001b[0m",
      "\u001b[0;32m<ipython-input-8-ca60a92a09c4>\u001b[0m in \u001b[0;36minsert_front\u001b[0;34m(self, element)\u001b[0m\n\u001b[1;32m     49\u001b[0m \u001b[0;34m\u001b[0m\u001b[0m\n\u001b[1;32m     50\u001b[0m     \u001b[0;32mdef\u001b[0m \u001b[0minsert_front\u001b[0m\u001b[0;34m(\u001b[0m\u001b[0mself\u001b[0m\u001b[0;34m,\u001b[0m \u001b[0melement\u001b[0m\u001b[0;34m)\u001b[0m\u001b[0;34m:\u001b[0m\u001b[0;34m\u001b[0m\u001b[0m\n\u001b[0;32m---> 51\u001b[0;31m         \u001b[0melement\u001b[0m \u001b[0;34m=\u001b[0m \u001b[0mself\u001b[0m\u001b[0;34m.\u001b[0m\u001b[0mrepOK\u001b[0m\u001b[0;34m(\u001b[0m\u001b[0melement\u001b[0m\u001b[0;34m)\u001b[0m\u001b[0;34m\u001b[0m\u001b[0m\n\u001b[0m\u001b[1;32m     52\u001b[0m         \u001b[0mnew_node\u001b[0m \u001b[0;34m=\u001b[0m \u001b[0;34m[\u001b[0m\u001b[0melement\u001b[0m\u001b[0;34m,\u001b[0m \u001b[0;32mNone\u001b[0m\u001b[0;34m]\u001b[0m\u001b[0;34m\u001b[0m\u001b[0m\n\u001b[1;32m     53\u001b[0m         \u001b[0mnew_node\u001b[0m\u001b[0;34m[\u001b[0m\u001b[0;36m1\u001b[0m\u001b[0;34m]\u001b[0m \u001b[0;34m=\u001b[0m \u001b[0mself\u001b[0m\u001b[0;34m.\u001b[0m\u001b[0m_headNode\u001b[0m\u001b[0;34m\u001b[0m\u001b[0m\n",
      "\u001b[0;32m<ipython-input-9-05efd98cab17>\u001b[0m in \u001b[0;36mrepOK\u001b[0;34m(self, element)\u001b[0m\n\u001b[1;32m      7\u001b[0m     \u001b[0;31m#could be implemented using a check on the whole list\u001b[0m\u001b[0;34m\u001b[0m\u001b[0;34m\u001b[0m\u001b[0m\n\u001b[1;32m      8\u001b[0m     \u001b[0;32mdef\u001b[0m \u001b[0mrepOK\u001b[0m\u001b[0;34m(\u001b[0m\u001b[0mself\u001b[0m\u001b[0;34m,\u001b[0m \u001b[0melement\u001b[0m\u001b[0;34m)\u001b[0m\u001b[0;34m:\u001b[0m\u001b[0;34m\u001b[0m\u001b[0m\n\u001b[0;32m----> 9\u001b[0;31m         \u001b[0;32massert\u001b[0m \u001b[0misinstance\u001b[0m\u001b[0;34m(\u001b[0m\u001b[0melement\u001b[0m\u001b[0;34m,\u001b[0m \u001b[0mtuple\u001b[0m\u001b[0;34m)\u001b[0m\u001b[0;34m,\u001b[0m \u001b[0;34m\"element needs to be a tuple\"\u001b[0m\u001b[0;34m\u001b[0m\u001b[0m\n\u001b[0m\u001b[1;32m     10\u001b[0m         \u001b[0;32mreturn\u001b[0m \u001b[0melement\u001b[0m\u001b[0;34m\u001b[0m\u001b[0m\n",
      "\u001b[0;31mAssertionError\u001b[0m: element needs to be a tuple"
     ]
    }
   ],
   "source": [
    "l.insert_front(3)"
   ]
  },
  {
   "cell_type": "markdown",
   "metadata": {},
   "source": [
    "### Q2.\n",
    "\n",
    "Implement a inplementation class `Env1` that impements the environment interface using the `TupleLL`. Let us ask what the AbsFun and RepInv are for this implementation. Write an AbsFun for it, noting that in this concrete representation, there can be multiple key-value pairs in the environment for the same key, and that there is a way to disambiguate the correct one. The Absfun should limit the keys and values allowed for our bindings as well. Where should these checks be made..thats a big question!\n",
    "\n",
    "We will not make any checks here that in bindings the keys are strings and values are legitimate in our language."
   ]
  },
  {
   "cell_type": "code",
   "execution_count": 30,
   "metadata": {
    "collapsed": false
   },
   "outputs": [],
   "source": [
    "class Env1:\n",
    "    \"\"\"\n",
    "    An environment which keeps track of the values of all named variables.\n",
    "    Implements Environment.\n",
    "    \n",
    "    AbsFun: Each tuple (a,b) in the linked list represents a named variable a and its value b.\n",
    "    \n",
    "    RepInv: Each variable may only have one value.\n",
    "    \"\"\"\n",
    "    def __init__(self, stuff=[]):\n",
    "        self._storage = TupleLL()\n",
    "        if stuff:\n",
    "            liststuff = list(stuff)\n",
    "            for s in stuff:\n",
    "                self._storage.insert_front(s)\n",
    "    \n",
    "    def empty(cls):\n",
    "        return cls()\n",
    "    \n",
    "    def extend(self, variable, value):\n",
    "        check = self._storage.first_match(variable)\n",
    "        if check is None:\n",
    "            self._storage.insert_front((variable,value))\n",
    "        else:\n",
    "            self._storage.remove(check[1])\n",
    "            self._storage.insert_front((variable,value))\n",
    "    \n",
    "    def extend_many(self, envdict):\n",
    "        for key in envdict:\n",
    "            self.extend(key,envdict[key])\n",
    "        \n",
    "    def lookup(variable):\n",
    "        check = self._storage.first_match(variable)\n",
    "        if check is None:\n",
    "            raise NameError(\"{} not found in Environment\".format(variable))\n",
    "        else: \n",
    "            return check[1][1]"
   ]
  },
  {
   "cell_type": "markdown",
   "metadata": {},
   "source": [
    "### Q2b.\n",
    "\n",
    "Now let us write and test a RepInv for this implementation. Note that just like in the case with the list-with-duplicates implementation of a set, its hard to come up with any uniqueness-of-binding RepInv. But we can ask the following: a newer binding overrides an old one. Write a Repinv which implements this and include a repOK methodwhich makes sure that any methods mutating the environment respect this RepInv and any observers return the correct binding. Hint: the `repOK` will need a signature `def repOK(self, key, value)` and also be used in the `lookup` method. It will use `all_matches`, and not be returning anything.\n",
    "\n",
    "Note that we might want to check that keys are strings and values are legitimate values in our language, but we wont do it for now. We'll come back to it in a few days."
   ]
  },
  {
   "cell_type": "code",
   "execution_count": 29,
   "metadata": {
    "collapsed": false
   },
   "outputs": [
    {
     "name": "stdout",
     "output_type": "stream",
     "text": [
      "__spec__ ModuleSpec(name='math', loader=<_frozen_importlib_external.ExtensionFileLoader object at 0x102ac1390>, origin='//anaconda/lib/python3.5/lib-dynload/math.cpython-35m-darwin.so')\n",
      "trunc <built-in function trunc>\n",
      "exp <built-in function exp>\n",
      "__doc__ This module is always available.  It provides access to the\n",
      "mathematical functions defined by the C standard.\n",
      "radians <built-in function radians>\n",
      "acos <built-in function acos>\n",
      "gcd <built-in function gcd>\n",
      "gamma <built-in function gamma>\n",
      "asin <built-in function asin>\n",
      "pi 3.141592653589793\n",
      "lgamma <built-in function lgamma>\n",
      "nan nan\n",
      "frexp <built-in function frexp>\n",
      "cosh <built-in function cosh>\n",
      "pow <built-in function pow>\n",
      "e 2.718281828459045\n",
      "asinh <built-in function asinh>\n",
      "log10 <built-in function log10>\n",
      "fmod <built-in function fmod>\n",
      "__file__ //anaconda/lib/python3.5/lib-dynload/math.cpython-35m-darwin.so\n",
      "sin <built-in function sin>\n",
      "atan <built-in function atan>\n",
      "isnan <built-in function isnan>\n",
      "sinh <built-in function sinh>\n",
      "expm1 <built-in function expm1>\n",
      "isinf <built-in function isinf>\n",
      "inf inf\n",
      "sqrt <built-in function sqrt>\n",
      "copysign <built-in function copysign>\n",
      "log2 <built-in function log2>\n",
      "ldexp <built-in function ldexp>\n",
      "atan2 <built-in function atan2>\n",
      "__package__ \n",
      "atanh <built-in function atanh>\n",
      "acosh <built-in function acosh>\n",
      "isfinite <built-in function isfinite>\n",
      "ceil <built-in function ceil>\n",
      "__name__ math\n",
      "tanh <built-in function tanh>\n",
      "__loader__ <_frozen_importlib_external.ExtensionFileLoader object at 0x102ac1390>\n",
      "degrees <built-in function degrees>\n",
      "log1p <built-in function log1p>\n",
      "log <built-in function log>\n",
      "factorial <built-in function factorial>\n",
      "erf <built-in function erf>\n",
      "erfc <built-in function erfc>\n",
      "floor <built-in function floor>\n",
      "fsum <built-in function fsum>\n",
      "cos <built-in function cos>\n",
      "modf <built-in function modf>\n",
      "hypot <built-in function hypot>\n",
      "tan <built-in function tan>\n",
      "isclose <built-in function isclose>\n",
      "fabs <built-in function fabs>\n"
     ]
    }
   ],
   "source": [
    "#your code here\n",
    "mathdict = vars(math)\n",
    "for key in mathdict:\n",
    "    print(key,mathdict[key])"
   ]
  },
  {
   "cell_type": "markdown",
   "metadata": {},
   "source": [
    "Lets use this class in a function which creates a global environment for our calculator referenced as `globenv`. we first register this implementation for the `Environment` interface"
   ]
  },
  {
   "cell_type": "code",
   "execution_count": 511,
   "metadata": {
    "collapsed": false
   },
   "outputs": [],
   "source": [
    "Environment.register(Env1)\n",
    "def one_env(envclass):\n",
    "    \"An environment with some Scheme standard procedures.\"\n",
    "    import math, operator as op\n",
    "    env = envclass.empty()\n",
    "    env.extend_many(vars(math))\n",
    "    env.extend_many({\n",
    "        '+':op.add, '-':op.sub, '*':op.mul, '/':op.truediv, \n",
    "        'abs':     abs,\n",
    "        'max':     max,\n",
    "        'min':     min,\n",
    "        'round':   round,\n",
    "    })\n",
    "    return env\n",
    "\n",
    "globenv = one_env(Env1)"
   ]
  },
  {
   "cell_type": "markdown",
   "metadata": {},
   "source": [
    "### Q3.\n",
    "\n",
    "Write a function, `def eval_ptree(x, env=globenv):` which evaluates the parse tree for a given parsed expressionlist, x. This function works recursively, in postorder mode, to traverse the expression tree. We have implemented part of it for you. You need to complete the current `elif` with a post-order traversal to \"extend\" the environment(one liner). Finally there is an `else` clause to implement which looks up the operator/function in the environment, uses post-order traversal to calculate the arguments, and then runs the operator on the arguments...."
   ]
  },
  {
   "cell_type": "code",
   "execution_count": 499,
   "metadata": {
    "collapsed": true
   },
   "outputs": [],
   "source": [
    "def eval_ptree(x, env=globenv):\n",
    "    if isinstance(x, str):      # variable lookup\n",
    "        return env.lookup(x)\n",
    "    elif not isinstance(x, list):  # constant\n",
    "        return x\n",
    "    elif len(x)==0: #noop\n",
    "        return None \n",
    "    elif x[0] == 'let':         # variable definition\n",
    "        (let, var, expression) = x\n",
    "        #postorder traversal by nested eval is needed below\n",
    "        # your code here\n"
   ]
  },
  {
   "cell_type": "markdown",
   "metadata": {},
   "source": [
    "Here is a simple check. (in addition to any tests you might have written)"
   ]
  },
  {
   "cell_type": "code",
   "execution_count": 502,
   "metadata": {
    "collapsed": false
   },
   "outputs": [],
   "source": [
    "eval_ptree(parse('(let a ())')) \n",
    "eval_ptree(parse('(+ a 1)')) "
   ]
  },
  {
   "cell_type": "code",
   "execution_count": 513,
   "metadata": {
    "collapsed": false
   },
   "outputs": [],
   "source": [
    "eval_ptree(parse('(sin 3)'))"
   ]
  },
  {
   "cell_type": "markdown",
   "metadata": {},
   "source": [
    "This is a very unsophisticated language. Nonsense like the above is allowed...we dont have a concept of None as yet..we'll fix it later..."
   ]
  },
  {
   "cell_type": "code",
   "execution_count": 503,
   "metadata": {
    "collapsed": false
   },
   "outputs": [],
   "source": [
    "eval_ptree(parse('(let a 5.5)'))\n",
    "eval_ptree(parse('(* (+ a 0.5) (+ a 4))')) #should give 57"
   ]
  },
  {
   "cell_type": "markdown",
   "metadata": {},
   "source": [
    "We write a `Program` class which takes a newline separated program, and can show it, parse it, and run it."
   ]
  },
  {
   "cell_type": "code",
   "execution_count": 505,
   "metadata": {
    "collapsed": true
   },
   "outputs": [],
   "source": [
    "class Program():\n",
    "    \n",
    "    def __init__(self, program, env):\n",
    "        self.program = [e.strip() for e in program.split('\\n')]\n",
    "        self.env = env\n",
    "        \n",
    "    def __iter__(self):\n",
    "        for line in self.program:\n",
    "            yield line\n",
    "    \n",
    "    def parse(self):\n",
    "        for l in iter(self):\n",
    "            yield parse(l)\n",
    "            \n",
    "    def run(self):\n",
    "        for l in iter(self):\n",
    "            yield eval_ptree(parse(l), self.env)"
   ]
  },
  {
   "cell_type": "code",
   "execution_count": 506,
   "metadata": {
    "collapsed": true
   },
   "outputs": [],
   "source": [
    "program = \"\"\"\n",
    "(let radius 5)\n",
    "(* pi (* radius radius))\n",
    "\"\"\""
   ]
  },
  {
   "cell_type": "code",
   "execution_count": 507,
   "metadata": {
    "collapsed": false
   },
   "outputs": [],
   "source": [
    "p=Program(program, globenv)\n",
    "list(iter(p))"
   ]
  },
  {
   "cell_type": "code",
   "execution_count": 508,
   "metadata": {
    "collapsed": false
   },
   "outputs": [],
   "source": [
    "for s in p.parse():\n",
    "    print(s)"
   ]
  },
  {
   "cell_type": "code",
   "execution_count": 509,
   "metadata": {
    "collapsed": false
   },
   "outputs": [],
   "source": [
    "for result in p.run():\n",
    "    print(result)"
   ]
  },
  {
   "cell_type": "markdown",
   "metadata": {},
   "source": [
    "### Q4.\n",
    "\n",
    "Implement another version of environment, `Env2`, which used dictionaries under the hood. Write an AbsFun and RepInv for it. In general we ought to check RepInv's, but do we even need to do it in this case? Register it"
   ]
  },
  {
   "cell_type": "code",
   "execution_count": 512,
   "metadata": {
    "collapsed": false
   },
   "outputs": [],
   "source": [
    "# your code here\n"
   ]
  },
  {
   "cell_type": "markdown",
   "metadata": {},
   "source": [
    "Let us test it out in the wild...."
   ]
  },
  {
   "cell_type": "code",
   "execution_count": 453,
   "metadata": {
    "collapsed": true
   },
   "outputs": [],
   "source": [
    "globenv2 = one_env(Env2)"
   ]
  },
  {
   "cell_type": "code",
   "execution_count": 454,
   "metadata": {
    "collapsed": false
   },
   "outputs": [],
   "source": [
    "p2=Program(program, globenv2)\n",
    "for result in p2.run():\n",
    "    print(result)"
   ]
  },
  {
   "cell_type": "markdown",
   "metadata": {},
   "source": [
    "### Adding a repl"
   ]
  },
  {
   "cell_type": "code",
   "execution_count": 455,
   "metadata": {
    "collapsed": true
   },
   "outputs": [],
   "source": [
    "def repl(prompt='calc> '):\n",
    "    while True:\n",
    "        try:\n",
    "            val = eval_ptree(parse(input(prompt)), globenv2)\n",
    "        except (KeyboardInterrupt, EOFError):\n",
    "            break\n",
    "        if val is not None: \n",
    "            print(val)"
   ]
  },
  {
   "cell_type": "code",
   "execution_count": 456,
   "metadata": {
    "collapsed": false
   },
   "outputs": [],
   "source": [
    "repl()# to get out of the repl in the notebook just cause an exception like below"
   ]
  },
  {
   "cell_type": "markdown",
   "metadata": {},
   "source": [
    "Notice we have not tamped down out language ny formally speifying what values are allowed in it. At the very least we should formalize variables as strings and constants as numbers.Real. Whats the right place to do this? The parser? The evaluater? We will come to all of this soon."
   ]
  }
 ],
 "metadata": {
  "kernelspec": {
   "display_name": "Python 3",
   "language": "python",
   "name": "python3"
  },
  "language_info": {
   "codemirror_mode": {
    "name": "ipython",
    "version": 3
   },
   "file_extension": ".py",
   "mimetype": "text/x-python",
   "name": "python",
   "nbconvert_exporter": "python",
   "pygments_lexer": "ipython3",
   "version": "3.5.1"
  }
 },
 "nbformat": 4,
 "nbformat_minor": 0
}
