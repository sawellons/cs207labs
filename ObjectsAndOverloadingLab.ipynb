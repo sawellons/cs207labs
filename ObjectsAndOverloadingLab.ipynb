{
 "cells": [
  {
   "cell_type": "markdown",
   "metadata": {},
   "source": [
    "### Q1. Continuing the Vector\n",
    "\n",
    "Our Vector implementation so far looks like this"
   ]
  },
  {
   "cell_type": "code",
   "execution_count": 1,
   "metadata": {
    "collapsed": true
   },
   "outputs": [],
   "source": [
    "#example from Fluent\n",
    "from array import array \n",
    "import reprlib\n",
    "import math\n",
    "import numbers\n",
    "import functools\n",
    "import operator\n",
    "import itertools\n",
    "\n",
    "class Vector:\n",
    "    typecode = 'd'\n",
    "    \n",
    "    def __init__(self, components):\n",
    "        self._components = array(self.typecode, components)\n",
    "        \n",
    "    def __iter__(self):\n",
    "        return iter(self._components)\n",
    "    \n",
    "    def __repr__(self):\n",
    "        components = reprlib.repr(self._components) \n",
    "        components = components[components.find('['):-1] \n",
    "        return 'Vector({})'.format(components)\n",
    "    \n",
    "    def __eq__(self, other):\n",
    "        if isinstance(other, Vector):\n",
    "            return (len(self) == len(other) and\n",
    "                all(a == b for a, b in zip(self, other)))\n",
    "        else:\n",
    "            return NotImplemented\n",
    "    \n",
    "    def __abs__(self):\n",
    "        return math.sqrt(sum(x * x for x in self))\n",
    "    \n",
    "    def __bool__(self): \n",
    "        return bool(abs(self))\n",
    "    \n",
    "    def __len__(self):\n",
    "        return len(self._components)\n",
    "    \n",
    "    def __getitem__(self, index): \n",
    "        cls = type(self)\n",
    "        \n",
    "        if isinstance(index, slice):\n",
    "            return cls(self._components[index])\n",
    "        elif isinstance(index, numbers.Integral): \n",
    "            return self._components[index]\n",
    "        else:\n",
    "            msg = '{.__name__} indices must be integers' \n",
    "            raise TypeError(msg.format(cls))\n",
    "            \n",
    "    def __neg__(self):\n",
    "        return Vector(-x for x in self) \n",
    "    \n",
    "    def __pos__(self):\n",
    "        return Vector(self)\n",
    "    \n",
    "    def _check_length_helper(self , rhs):\n",
    "        if not len(self)==len(rhs):\n",
    "            raise ValueError(str(self)+' and '+str(rhs)+' must have the same length')\n",
    "    \n",
    "    def __add__(self, rhs):\n",
    "        try:\n",
    "            if isinstance(rhs, numbers.Real):\n",
    "                return Vector(a + rhs for a in self) \n",
    "            else: #\n",
    "                self._check_length_helper(rhs)\n",
    "                pairs = zip(self, rhs)\n",
    "                return Vector(a + b for a, b in pairs)\n",
    "        except TypeError:\n",
    "            raise NotImplemented\n",
    "    \n",
    "    def __radd__(self, other): # other + self delegates to __add__\n",
    "        return self + other"
   ]
  },
  {
   "cell_type": "markdown",
   "metadata": {},
   "source": [
    "First, implement all the ad-hoc tests so far as doctests. Then implement multiplication and subtraction for this class. Notice that this is currently a non-mutable vector."
   ]
  },
  {
   "cell_type": "code",
   "execution_count": 12,
   "metadata": {
    "collapsed": false
   },
   "outputs": [
    {
     "name": "stdout",
     "output_type": "stream",
     "text": [
      "Finding tests in NoName\n",
      "Trying:\n",
      "    v1 = Vector([3, 4])\n",
      "Expecting nothing\n",
      "ok\n",
      "Trying:\n",
      "    v2 = Vector([3.1, 4.2])\n",
      "Expecting nothing\n",
      "ok\n",
      "Trying:\n",
      "    v3 = Vector([3, 4, 5])\n",
      "Expecting nothing\n",
      "ok\n",
      "Trying:\n",
      "    v4 = Vector([3, 4])\n",
      "Expecting nothing\n",
      "ok\n",
      "Trying:\n",
      "    v1 + v2\n",
      "Expecting:\n",
      "    Vector([6.1, 8.2])\n",
      "ok\n",
      "Trying:\n",
      "    v1 + [1,2]\n",
      "Expecting:\n",
      "    Vector([4.0, 6.0])\n",
      "ok\n",
      "Trying:\n",
      "    [1,2] + v1\n",
      "Expecting:\n",
      "    Vector([4.0, 6.0])\n",
      "ok\n",
      "Trying:\n",
      "    v1 + 3, 3 + v1\n",
      "Expecting:\n",
      "    (Vector([6.0, 7.0]), Vector([6.0, 7.0]))\n",
      "ok\n"
     ]
    }
   ],
   "source": [
    "from array import array \n",
    "import reprlib\n",
    "import math\n",
    "import numbers\n",
    "import functools\n",
    "import operator\n",
    "import itertools\n",
    "\n",
    "class Vector:\n",
    "    \"\"\"\n",
    "    Examples:\n",
    "    \n",
    "    >>> v1 = Vector([3, 4])\n",
    "    >>> v2 = Vector([3.1, 4.2])\n",
    "    >>> v3 = Vector([3, 4, 5])\n",
    "    >>> v4 = Vector([3, 4])\n",
    "    >>> v1 + v2\n",
    "    Vector([6.1, 8.2])\n",
    "    >>> v1 + [1,2]\n",
    "    Vector([4.0, 6.0])\n",
    "    >>> [1,2] + v1\n",
    "    Vector([4.0, 6.0])\n",
    "    >>> v1 + 3, 3 + v1\n",
    "    (Vector([6.0, 7.0]), Vector([6.0, 7.0]))\n",
    "    \"\"\"\n",
    "    \n",
    "    typecode = 'd'\n",
    "    \n",
    "    def __init__(self, components):\n",
    "        self._components = array(self.typecode, components)\n",
    "        \n",
    "    def __iter__(self):\n",
    "        return iter(self._components)\n",
    "    \n",
    "    def __repr__(self):\n",
    "        components = reprlib.repr(self._components) \n",
    "        components = components[components.find('['):-1] \n",
    "        return 'Vector({})'.format(components)\n",
    "    \n",
    "    def __eq__(self, other):\n",
    "        if isinstance(other, Vector):\n",
    "            return (len(self) == len(other) and\n",
    "                all(a == b for a, b in zip(self, other)))\n",
    "        else:\n",
    "            return NotImplemented\n",
    "    \n",
    "    def __abs__(self):\n",
    "        return math.sqrt(sum(x * x for x in self))\n",
    "    \n",
    "    def __bool__(self): \n",
    "        return bool(abs(self))\n",
    "    \n",
    "    def __len__(self):\n",
    "        return len(self._components)\n",
    "    \n",
    "    def __getitem__(self, index): \n",
    "        cls = type(self)\n",
    "        \n",
    "        if isinstance(index, slice):\n",
    "            return cls(self._components[index])\n",
    "        elif isinstance(index, numbers.Integral): \n",
    "            return self._components[index]\n",
    "        else:\n",
    "            msg = '{.__name__} indices must be integers' \n",
    "            raise TypeError(msg.format(cls))\n",
    "            \n",
    "    def __neg__(self):\n",
    "        return Vector(-x for x in self) \n",
    "    \n",
    "    def __pos__(self):\n",
    "        return Vector(self)\n",
    "    \n",
    "    def _check_length_helper(self , rhs):\n",
    "        if not len(self)==len(rhs):\n",
    "            raise ValueError(str(self)+' and '+str(rhs)+' must have the same length')\n",
    "    \n",
    "    def __add__(self, rhs):\n",
    "        try:\n",
    "            if isinstance(rhs, numbers.Real):\n",
    "                return Vector(a + rhs for a in self) \n",
    "            else: #\n",
    "                self._check_length_helper(rhs)\n",
    "                pairs = zip(self, rhs)\n",
    "                return Vector(a + b for a, b in pairs)\n",
    "        except TypeError:\n",
    "            raise NotImplemented\n",
    "    \n",
    "    def __radd__(self, other): # other + self delegates to __add__\n",
    "        return self + other\n",
    "\n",
    "    def __sub__(self, rhs):\n",
    "        try:\n",
    "            if isinstance(rhs, numbers.Real):\n",
    "                return Vector(a - rhs for a in self) \n",
    "            else: #\n",
    "                self._check_length_helper(rhs)\n",
    "                pairs = zip(self, rhs)\n",
    "                return Vector(a - b for a, b in pairs)\n",
    "        except TypeError:\n",
    "            raise NotImplemented\n",
    "    \n",
    "    def __rsub__(self,other):\n",
    "        return -1*self + other\n",
    "    \n",
    "    def __mul__(self, rhs):\n",
    "        try:\n",
    "            if isinstance(rhs, numbers.Real):\n",
    "                return Vector(a * rhs for a in self) \n",
    "            else: #\n",
    "                self._check_length_helper(rhs)\n",
    "                pairs = zip(self, rhs)\n",
    "                return Vector(a * b for a, b in pairs)\n",
    "        except TypeError:\n",
    "            raise NotImplemented\n",
    "    \n",
    "    def __rmul__(self, other):\n",
    "        return self*other\n",
    "    \n",
    "from pydoc import doc as pydoc\n",
    "from doctest import run_docstring_examples as dtest\n",
    "dtest(Vector, globals(), verbose=True)"
   ]
  },
  {
   "cell_type": "code",
   "execution_count": 13,
   "metadata": {
    "collapsed": false
   },
   "outputs": [
    {
     "data": {
      "text/plain": [
       "(Vector([2.0, 3.0]),\n",
       " Vector([2.0, 4.0]),\n",
       " Vector([2.0, 3.0]),\n",
       " Vector([2.0, 4.0]),\n",
       " Vector([4.0, 6.0]),\n",
       " Vector([4.0, 6.0]))"
      ]
     },
     "execution_count": 13,
     "metadata": {},
     "output_type": "execute_result"
    }
   ],
   "source": [
    "v1 = Vector([1,2])\n",
    "v2=Vector([3,4])\n",
    "v3=Vector([1,2,3])\n",
    "v1+1,v1+[1,2], 1 + v1, [1,2] + v1, v1 + v2, v2 + v1"
   ]
  },
  {
   "cell_type": "code",
   "execution_count": 14,
   "metadata": {
    "collapsed": false
   },
   "outputs": [
    {
     "data": {
      "text/plain": [
       "(Vector([3.0, 8.0]),\n",
       " Vector([3.0, 8.0]),\n",
       " Vector([4.0, 8.0]),\n",
       " Vector([4.9, 9.8]))"
      ]
     },
     "execution_count": 14,
     "metadata": {},
     "output_type": "execute_result"
    }
   ],
   "source": [
    "v1 * v2, v2* v1, 4*v1, v1*4.9"
   ]
  },
  {
   "cell_type": "markdown",
   "metadata": {},
   "source": [
    "### Q2. Mixins for functionality\n",
    "\n",
    "Here is a set of methods that logs dictionary access"
   ]
  },
  {
   "cell_type": "code",
   "execution_count": 15,
   "metadata": {
    "collapsed": true
   },
   "outputs": [],
   "source": [
    "class LoggedMappingMixin: \n",
    "    '''\n",
    "    Add logging to get/set/delete operations for debugging. \n",
    "    '''\n",
    "    __slots__ = ()\n",
    "    def __getitem__(self, key): \n",
    "        print('Getting ' + str(key)) \n",
    "        return super().__getitem__(key)\n",
    "    def __setitem__(self, key, value): \n",
    "        print('Setting {} = {!r}'.format(key, value)) \n",
    "        return super().__setitem__(key, value)\n",
    "    def __delitem__(self, key): \n",
    "        print('Deleting ' + str(key)) \n",
    "        return super().__delitem__(key)"
   ]
  },
  {
   "cell_type": "markdown",
   "metadata": {},
   "source": [
    "Notice the use of `super()` here. `super()` is the same as `super(self.__class__, self)`. But we dont have a parent!\n",
    "\n",
    "What is going on? You tell me the answer to this when you inherit a `LoggedDict` with no implementation from both `LoggedMappingMixin` and `dict`. Which order must you inherit in? Play with the `mro` method and figure this out."
   ]
  },
  {
   "cell_type": "code",
   "execution_count": 17,
   "metadata": {
    "collapsed": false
   },
   "outputs": [],
   "source": [
    "#write the LoggedDict class 2 ways and play with the mro, then write the reason\n",
    "class LoggedDict1(LoggedMappingMixin, dict):\n",
    "    '''\n",
    "    Inherits from LoggedMappingMixin and dict\n",
    "    '''\n",
    "    \n",
    "class LoggedDict2(dict, LoggedMappingMixin):\n",
    "    '''\n",
    "    Inherits from dict and LoggedMappingMixin \n",
    "    '''"
   ]
  },
  {
   "cell_type": "code",
   "execution_count": 28,
   "metadata": {
    "collapsed": false
   },
   "outputs": [
    {
     "name": "stdout",
     "output_type": "stream",
     "text": [
      "Setting 1 = 1\n",
      "Setting a = 10\n",
      "{'a': 10, 1: 1}\n",
      "Setting a = 15\n",
      "Getting a\n",
      "15\n"
     ]
    },
    {
     "data": {
      "text/plain": [
       "[__main__.LoggedDict1, __main__.LoggedMappingMixin, dict, object]"
      ]
     },
     "execution_count": 28,
     "metadata": {},
     "output_type": "execute_result"
    }
   ],
   "source": [
    "ld = LoggedDict1()\n",
    "ld[1] = 1\n",
    "ld['a'] = 10\n",
    "print(ld)\n",
    "ld['a'] = 15\n",
    "print(ld['a'])\n",
    "LoggedDict1.mro()"
   ]
  },
  {
   "cell_type": "markdown",
   "metadata": {},
   "source": [
    "dict must be inherited first, so that the LoggedMappingMixin methods are the closest to LoggedDict in the inheritance tree and are the ones which are used.  Otherwise, the verbose output does not appear."
   ]
  },
  {
   "cell_type": "markdown",
   "metadata": {},
   "source": [
    "### Q3. The Pavlos Problem\n",
    "\n",
    "ABC's and doctests. The Pavlos problem.\n",
    "\n",
    "Introspection of a class hierarchy is helped by:\n",
    "`__subclasses__()` and `_abc_registry` which give us concrete subclasses and virtual subclasses respectively. We can use this to fully document an interface via an example."
   ]
  },
  {
   "cell_type": "code",
   "execution_count": 29,
   "metadata": {
    "collapsed": false
   },
   "outputs": [],
   "source": [
    "import abc\n",
    "class StackInterface(abc.ABC):\n",
    "    \"\"\"\n",
    "    >>> a = Stack()\n",
    "    >>> a.push(1)\n",
    "    >>> a.push(2)\n",
    "    >>> a.peek()\n",
    "    2\n",
    "    >>> a.pop()\n",
    "    2\n",
    "    >>> a.pop()\n",
    "    1\n",
    "    >>> a.peek()\n",
    "    >>> a.pop()\n",
    "    \"\"\"\n",
    "    \n",
    "    @abc.abstractmethod\n",
    "    def push(self, value):\n",
    "        \"Push value onto the stack. Return None\"\n",
    "        \n",
    "    @abc.abstractmethod\n",
    "    def pop(self):\n",
    "        \"Pop value from Stack. Return None if nothingon stack\"\n",
    "        \n",
    "    @abc.abstractmethod\n",
    "    def peek(self):\n",
    "        \"Peeak at top of stack. Return None if empty\""
   ]
  },
  {
   "cell_type": "markdown",
   "metadata": {},
   "source": [
    "Implement `ListStack` using a python list"
   ]
  },
  {
   "cell_type": "code",
   "execution_count": 34,
   "metadata": {
    "collapsed": false
   },
   "outputs": [],
   "source": [
    "class ListStack():\n",
    "    \n",
    "    def __init__(self,stuff=[]):\n",
    "        self._storage = []\n",
    "        self._len = 0\n",
    "        for s in stuff: \n",
    "            self._storage.append(s)\n",
    "            self._len += 1\n",
    "\n",
    "    def push(self, value):\n",
    "        self._storage.append(value)\n",
    "        self._len += 1\n",
    "        \n",
    "    def pop(self):\n",
    "        if self._len == 0: return None\n",
    "        self._len -= 1\n",
    "        return self._storage.pop()\n",
    "        \n",
    "    def peek(self):\n",
    "        return self._storage[-1]"
   ]
  },
  {
   "cell_type": "markdown",
   "metadata": {},
   "source": [
    "How do we test this using the tests in `StackInterface`? And in general for other virtual or real subclasses? Show this here. (work out doing this from a file at home, you dont need to answer the file case here). This recipe wont work with py.test"
   ]
  },
  {
   "cell_type": "code",
   "execution_count": 37,
   "metadata": {
    "collapsed": false
   },
   "outputs": [
    {
     "name": "stdout",
     "output_type": "stream",
     "text": [
      "2\n",
      "1\n"
     ]
    }
   ],
   "source": [
    "StackInterface.register(ListStack)\n",
    "a = ListStack()\n",
    "a.push(1)\n",
    "a.push(2)\n",
    "print(a.pop())\n",
    "print(a.peek())"
   ]
  },
  {
   "cell_type": "markdown",
   "metadata": {},
   "source": [
    "### Q4. Your Timeseries Project\n",
    "\n",
    "Operator overloading on your `TimeSeries` class.\n",
    "\n",
    "Your `TimeSeries` class should be, by now, a well documented, well tested, mutable, class which implements:\n",
    "\n",
    "- `__getitem__`: to get a value for a given time\n",
    "- `__setitem__`: set the value for the given time\n",
    "- `__contains__`: is a value in the values\n",
    "- `__iter__`: iterates over values. (This might have iterated over tuples of (time, value) pairs earlier\n",
    "- `values`: returns a numpy array of values\n",
    "- `itervalues`: returns an iterator over them\n",
    "- `times`: returns a numpy array of times\n",
    "- `itertimes`: returns an iterator over them\n",
    "- `items`: returns a list of time-value tuple pairs\n",
    "- `iteritems`: returns an iterator over these\n",
    "- `__len__`: returns a length.\n",
    "- `__repr__`: abbreviating spring representation\n",
    "\n",
    "Add to these methods(again well tested):\n",
    "\n",
    "- infix addition, subtraction, equality and multiplication. Here you must check that the lengths are equal and that the time domains are the same for the case of the operations on a TimeSeries (the latter implies the former). Return a `ValueError` in case this fails:\n",
    "\n",
    "`ValueError(str(self)+' and '+str(rhs)+' must have the same time points')`\n",
    "\n",
    "Let these be elementwise operations, as we might expect from a numpy array-like thing. As before, handle the case of a constant.\n",
    "- unary `__abs__`, `__bool__`, `__neg__`, and `__pos__` with the same semantics as the `Vector` class above.\n",
    "\n",
    "\n",
    "A question that might arise is what to do if we add numpy arrays or regular python lists. These should fail with `raise NotImplemented` as we dont have time associated. An option might have been to associate the array with the time indexing of the other array, but this is making too many assumptions: the user can do this explicitly.\n",
    "\n",
    "You will probably have to catch another exception for this to happen.\n",
    "\n",
    "Put this code into your project repo."
   ]
  },
  {
   "cell_type": "markdown",
   "metadata": {
    "collapsed": true
   },
   "source": [
    "### TO READ: Numpy ufuncs and function overloading\n",
    "\n",
    "Check this out. Read http://docs.scipy.org/doc/numpy-dev/reference/arrays.classes.html#special-attributes-and-methods to understand how this works. We will use it later."
   ]
  },
  {
   "cell_type": "code",
   "execution_count": 1,
   "metadata": {
    "collapsed": false
   },
   "outputs": [],
   "source": [
    "import numpy as np\n",
    "import pandas as pd\n",
    "p=pd.Series([1,2,3])\n",
    "print(type(p))\n",
    "p2=np.exp(p)\n",
    "p2, type(p2)"
   ]
  }
 ],
 "metadata": {
  "kernelspec": {
   "display_name": "Python 3",
   "language": "python",
   "name": "python3"
  },
  "language_info": {
   "codemirror_mode": {
    "name": "ipython",
    "version": 3
   },
   "file_extension": ".py",
   "mimetype": "text/x-python",
   "name": "python",
   "nbconvert_exporter": "python",
   "pygments_lexer": "ipython3",
   "version": "3.5.1"
  }
 },
 "nbformat": 4,
 "nbformat_minor": 0
}
