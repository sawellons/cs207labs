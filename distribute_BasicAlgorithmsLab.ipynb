{
 "cells": [
  {
   "cell_type": "markdown",
   "metadata": {},
   "source": [
    "## Basic Algorithms Lab: Fibonacci and Insertion Sort\n",
    "\n",
    "\n",
    "Another form of recursion is tree recursion. Consider computing a fibonacci sequence, in which each number is the sum of the previous two, with the first two taken to be 0 and 1."
   ]
  },
  {
   "cell_type": "markdown",
   "metadata": {},
   "source": [
    "### Recursive Fibonacci. \n",
    "\n",
    "\n",
    "We write Fibonacci recursively with the first two numbers as base cases. (as in the last lab)\n",
    "\n",
    "![](https://mitpress.mit.edu/sicp/full-text/book/ch1-Z-G-13.gif)\n",
    "\n",
    "(from SICP)\n",
    "\n",
    "Signature: `def fib_recursive(n)`"
   ]
  },
  {
   "cell_type": "code",
   "execution_count": 1,
   "metadata": {
    "collapsed": false
   },
   "outputs": [
    {
     "name": "stdout",
     "output_type": "stream",
     "text": [
      "0\n",
      "1\n",
      "8\n",
      "144\n",
      "317811\n",
      "2178309\n"
     ]
    }
   ],
   "source": [
    "def fib_recursive(n):\n",
    "    if n == 1:\n",
    "        return 0\n",
    "    if n == 2:\n",
    "        return 1\n",
    "    return fib_recursive(n-1) + fib_recursive(n-2)\n",
    "\n",
    "for i in [1, 2, 7, 13, 29, 33]:\n",
    "    print(fib_recursive(i))"
   ]
  },
  {
   "cell_type": "markdown",
   "metadata": {},
   "source": [
    "### Q1. \n",
    "\n",
    "What are the space and time complexities of this implementation? Is this implementation tail-recursive?"
   ]
  },
  {
   "cell_type": "markdown",
   "metadata": {},
   "source": [
    "Time: n^2\n",
    "Space: n\n",
    "Yes"
   ]
  },
  {
   "cell_type": "markdown",
   "metadata": {},
   "source": [
    "### Dynamic Programming and Iteration\n",
    "\n",
    "From Skiena\n",
    ">..**dynamic programming**, which typically removes one element from the problem, solves the smaller problem, and then uses the solution to this smaller problem to add back the element in the proper way. **Divide-and-conquer** instead splits the problem in (say) halves, solves each half, then stitches the pieces back together to form a full solution.\n",
    "\n",
    ">Dynamic programming is a technique for efficiently implementing a recursive algorithm by storing partial results. The trick is seeing whether the naive recursive algorithm computes the same subproblems over and over and over again. If so, storing the answer for each subproblems in a table to look up instead of recompute can lead to an efficient algorithm. Start with a recursive algorithm or definition. Only once we have a correct recursive algorithm do we worry about speeding it up by using a results matrix. Dynamic programming is generally the right method for optimization problems on combinatorial objects that have an inherent left to right order among components. nents. Left-to-right objects includes: character strings, rooted trees, polygons, and integer sequences."
   ]
  },
  {
   "cell_type": "markdown",
   "metadata": {},
   "source": [
    "### Q2.\n",
    "\n",
    "Here is an implementation of Fibonacci using dynamic programming: they key is to notice that the recurrence we used can be put into an iterative form and just stored in an everr increasing array. What is the space and time complexity here?"
   ]
  },
  {
   "cell_type": "code",
   "execution_count": 2,
   "metadata": {
    "collapsed": true
   },
   "outputs": [],
   "source": [
    "def fib_iterative(n):\n",
    "    fibs=[]\n",
    "    fibs.append(0)\n",
    "    fibs.append(1)\n",
    "    for i in range(2, n):\n",
    "         fibs.append(fibs[i-1]+fibs[i-2])\n",
    "    return fibs[n-1]"
   ]
  },
  {
   "cell_type": "code",
   "execution_count": 3,
   "metadata": {
    "collapsed": false
   },
   "outputs": [
    {
     "name": "stdout",
     "output_type": "stream",
     "text": [
      "0\n",
      "1\n",
      "8\n",
      "144\n",
      "317811\n",
      "2178309\n"
     ]
    }
   ],
   "source": [
    "for i in [1, 2, 7,13,29,33]:\n",
    "    print(fib_iterative(i))"
   ]
  },
  {
   "cell_type": "markdown",
   "metadata": {},
   "source": [
    "Time: n\n",
    "Space: n"
   ]
  },
  {
   "cell_type": "markdown",
   "metadata": {},
   "source": [
    "### Recursive Fibonacci with cacheing"
   ]
  },
  {
   "cell_type": "code",
   "execution_count": 75,
   "metadata": {
    "collapsed": false
   },
   "outputs": [],
   "source": [
    "def cache(f):\n",
    "    \"\"\"a single argument function whose values may be cached\"\"\"\n",
    "    cache = {}\n",
    "    def memoized_func(x):\n",
    "        if x not in cache:\n",
    "            cache[x] = f(x)\n",
    "#       print(cache)\n",
    "        return cache[x]\n",
    "    memoized_func.__name__ = f.__name__\n",
    "    return memoized_func\n",
    "    "
   ]
  },
  {
   "cell_type": "code",
   "execution_count": 76,
   "metadata": {
    "collapsed": true
   },
   "outputs": [],
   "source": [
    "def call_counter(count_dictionary):\n",
    "    def call_counter_decorator(func):\n",
    "        n = func.__name__\n",
    "        nonlocal count_dictionary\n",
    "        count_dictionary[n] = 0\n",
    "        def inner(*args, **kwargs):\n",
    "            n = func.__name__\n",
    "            nonlocal count_dictionary\n",
    "            count_dictionary[n] = count_dictionary[n] + 1\n",
    "            return func(*args)\n",
    "        return inner\n",
    "    return call_counter_decorator"
   ]
  },
  {
   "cell_type": "markdown",
   "metadata": {},
   "source": [
    "### Q3. \n",
    "\n",
    "Use `cache` and `call_counter` as a decorator on `fib_recursive` and print the fibonacci numbers for 7,13,29, 33 as per last time. What order should these decorators be called to make sure `call_counter` gets the actual number of calls to `fib_recursive`?"
   ]
  },
  {
   "cell_type": "code",
   "execution_count": 83,
   "metadata": {
    "collapsed": false
   },
   "outputs": [],
   "source": [
    "storage={}\n",
    "@call_counter(storage)\n",
    "@cache\n",
    "def fib_recursive(n):\n",
    "    if n == 1:\n",
    "        return 0\n",
    "    if n == 2:\n",
    "        return 1\n",
    "    return fib_recursive(n-1) + fib_recursive(n-2)"
   ]
  },
  {
   "cell_type": "code",
   "execution_count": null,
   "metadata": {
    "collapsed": false
   },
   "outputs": [],
   "source": []
  },
  {
   "cell_type": "code",
   "execution_count": 84,
   "metadata": {
    "collapsed": false
   },
   "outputs": [
    {
     "name": "stdout",
     "output_type": "stream",
     "text": [
      "8\n",
      "11\n",
      "\n",
      "144\n",
      "24\n",
      "\n",
      "317811\n",
      "57\n",
      "\n",
      "2178309\n",
      "66\n",
      "\n"
     ]
    }
   ],
   "source": [
    "ns = [7, 13, 29, 33]\n",
    "for n in ns:\n",
    "    print(fib_recursive(n))\n",
    "    print(storage['fib_recursive'])\n",
    "    print('')\n",
    "#    print(fibmemo(n))\n",
    "#    print(storage['fib_recursive'])\n",
    "#    print(n, storage['fib_recursive'])"
   ]
  },
  {
   "cell_type": "code",
   "execution_count": 66,
   "metadata": {
    "collapsed": false
   },
   "outputs": [
    {
     "name": "stdout",
     "output_type": "stream",
     "text": [
      "8078102\n"
     ]
    }
   ],
   "source": [
    "print(storage['fib_recursive'])"
   ]
  },
  {
   "cell_type": "markdown",
   "metadata": {},
   "source": [
    "### Q4.\n",
    "\n",
    "What is the time and space complexity of the the memoized Fibonacci? HINT: assume evaluation happens left to right on sub-expressions, so that `fib_recursive(n-1)` side of the tree is evaluated first, and thus the tree is evaluated depth first, from left to right. What kind of pruning happens in the tree?"
   ]
  },
  {
   "cell_type": "markdown",
   "metadata": {},
   "source": [
    "*your answer here*\n"
   ]
  },
  {
   "cell_type": "markdown",
   "metadata": {},
   "source": [
    "### Q5.\n",
    "\n",
    "Do you really need to store the entire array in the dynamic programming implementation? Isnt it enough to have only saved the previous two Fibonacci numbers? Implement such an algorithm in `fib_iterative2(n)`. What is its space and time complexity?"
   ]
  },
  {
   "cell_type": "code",
   "execution_count": 87,
   "metadata": {
    "collapsed": true
   },
   "outputs": [],
   "source": [
    "#your code here\n"
   ]
  },
  {
   "cell_type": "code",
   "execution_count": 97,
   "metadata": {
    "collapsed": false
   },
   "outputs": [],
   "source": [
    "#your code here\n"
   ]
  },
  {
   "cell_type": "markdown",
   "metadata": {},
   "source": [
    "*your answer here*\n"
   ]
  },
  {
   "cell_type": "markdown",
   "metadata": {},
   "source": [
    "### Q6.\n",
    "\n",
    "Write an algorithm for insertion sort. \n",
    "\n",
    "![](https://upload.wikimedia.org/wikipedia/commons/0/0f/Insertion-sort-example-300px.gif)\n",
    "\n",
    "(from wikipedia)\n",
    "\n",
    "The algorithm is also illustrated here: http://cs.armstrong.edu/liang/animation/web/InsertionSort.html and may be described thus\n",
    "\n",
    "insertion sort is a method for sorting that starts with a single element (thus forming a trivially sorted list) and then incrementally inserts the remaining elements so that the list stays sorted.\n",
    "\n",
    "Talk about the best, worst and average complexity of insertion sort. Use the same list A from the lecture\n",
    "`A=[5,2,1,3,8,6,9]`"
   ]
  },
  {
   "cell_type": "code",
   "execution_count": 12,
   "metadata": {
    "collapsed": true
   },
   "outputs": [],
   "source": [
    "#your code here\n"
   ]
  },
  {
   "cell_type": "code",
   "execution_count": 13,
   "metadata": {
    "collapsed": false
   },
   "outputs": [],
   "source": [
    "#your code here\n"
   ]
  },
  {
   "cell_type": "markdown",
   "metadata": {
    "collapsed": true
   },
   "source": [
    "*your answer here*\n"
   ]
  }
 ],
 "metadata": {
  "kernelspec": {
   "display_name": "Python 3",
   "language": "python",
   "name": "python3"
  },
  "language_info": {
   "codemirror_mode": {
    "name": "ipython",
    "version": 3
   },
   "file_extension": ".py",
   "mimetype": "text/x-python",
   "name": "python",
   "nbconvert_exporter": "python",
   "pygments_lexer": "ipython3",
   "version": "3.5.1"
  }
 },
 "nbformat": 4,
 "nbformat_minor": 0
}
