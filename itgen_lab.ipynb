{
 "cells": [
  {
   "cell_type": "markdown",
   "metadata": {
    "collapsed": true
   },
   "source": [
    "## Q1.\n",
    "\n",
    "Add methods `__iter__` to your project Time Series class to iterate over values, a method `itertimes` to iterate over times, a method `itervalues` to iterate over values, and a method `iteritems` to iterate over time-value pairs. (This is a similar interface to python dictionaries). To test these, check both the types of the results and the answers you expect."
   ]
  },
  {
   "cell_type": "code",
   "execution_count": 1,
   "metadata": {
    "collapsed": true
   },
   "outputs": [],
   "source": [
    "#See test_timeseries.py in project repository\n"
   ]
  },
  {
   "cell_type": "markdown",
   "metadata": {},
   "source": [
    "## Q2.\n",
    "\n",
    "An online mean and standard deviation algorithm.\n",
    "\n",
    "Below is a function to generate a potentially infinite stream of 1-D data."
   ]
  },
  {
   "cell_type": "code",
   "execution_count": 2,
   "metadata": {
    "collapsed": false
   },
   "outputs": [],
   "source": [
    "from random import normalvariate, random\n",
    "from itertools import count\n",
    "def make_data(m, stop=None):\n",
    "    for _ in count():\n",
    "        if stop and _ > stop:\n",
    "            break\n",
    "        yield 1.0e09 + normalvariate(0, m*random() )\n",
    "        "
   ]
  },
  {
   "cell_type": "markdown",
   "metadata": {},
   "source": [
    "Here is an implementation of an online mean algorithm..see http://www.johndcook.com/blog/standard_deviation/ and the link to http://www.johndcook.com/blog/2008/09/26/comparing-three-methods-of-computing-standard-deviation/ in-between. (Convince yourselves of the formulas...)"
   ]
  },
  {
   "cell_type": "code",
   "execution_count": 3,
   "metadata": {
    "collapsed": true
   },
   "outputs": [],
   "source": [
    "def online_mean(iterator):\n",
    "    n = 0\n",
    "    mu = 0\n",
    "    for value in iterator:\n",
    "        n += 1\n",
    "        delta = value - mu\n",
    "        mu = mu + delta/n\n",
    "        yield mu"
   ]
  },
  {
   "cell_type": "markdown",
   "metadata": {},
   "source": [
    "We use out generator functions to implement iterators:"
   ]
  },
  {
   "cell_type": "code",
   "execution_count": 4,
   "metadata": {
    "collapsed": false
   },
   "outputs": [
    {
     "data": {
      "text/plain": [
       "[1000000001.3868843,\n",
       " 1000000002.5404531,\n",
       " 1000000000.2014244,\n",
       " 999999999.0167351,\n",
       " 999999999.3345492,\n",
       " 1000000001.5854721,\n",
       " 999999997.2193824,\n",
       " 1000000000.5018299,\n",
       " 999999998.8449419,\n",
       " 1000000000.0446758,\n",
       " 999999998.7717435]"
      ]
     },
     "execution_count": 4,
     "metadata": {},
     "output_type": "execute_result"
    }
   ],
   "source": [
    "g = make_data(5, 10)\n",
    "list(g)"
   ]
  },
  {
   "cell_type": "code",
   "execution_count": 5,
   "metadata": {
    "collapsed": false
   },
   "outputs": [
    {
     "name": "stdout",
     "output_type": "stream",
     "text": [
      "<class 'generator'>\n"
     ]
    },
    {
     "data": {
      "text/plain": [
       "[1000000004.3856759,\n",
       " 1000000001.3662616,\n",
       " 1000000004.3036283,\n",
       " 1000000002.3150502,\n",
       " 1000000001.8291456,\n",
       " 1000000001.4553989,\n",
       " 1000000001.6176692,\n",
       " 1000000002.766257,\n",
       " 1000000002.6875873,\n",
       " 1000000002.1945325,\n",
       " 1000000001.9402399,\n",
       " 1000000001.5488362,\n",
       " 1000000001.4518881,\n",
       " 1000000001.1655737,\n",
       " 1000000001.1500425,\n",
       " 1000000001.041397,\n",
       " 1000000001.0411717,\n",
       " 1000000001.0847863,\n",
       " 1000000000.8547621,\n",
       " 1000000000.6169966,\n",
       " 1000000000.4858509,\n",
       " 1000000000.4145086,\n",
       " 1000000000.4007676,\n",
       " 1000000000.3341949,\n",
       " 1000000000.306874,\n",
       " 1000000000.2965688,\n",
       " 1000000000.2755674,\n",
       " 1000000000.2599816,\n",
       " 1000000000.2871659,\n",
       " 1000000000.2735342,\n",
       " 1000000000.4387435,\n",
       " 1000000000.415412,\n",
       " 1000000000.4940624,\n",
       " 1000000000.2997793,\n",
       " 1000000000.2955313,\n",
       " 1000000000.3437393,\n",
       " 1000000000.4881462,\n",
       " 1000000000.4334329,\n",
       " 1000000000.4946506,\n",
       " 1000000000.4144443,\n",
       " 1000000000.5364456,\n",
       " 1000000000.5528824,\n",
       " 1000000000.516369,\n",
       " 1000000000.4178096,\n",
       " 1000000000.4097847,\n",
       " 1000000000.3802783,\n",
       " 1000000000.3737718,\n",
       " 1000000000.3809631,\n",
       " 1000000000.3858316,\n",
       " 1000000000.4709051,\n",
       " 1000000000.4637105,\n",
       " 1000000000.4809469,\n",
       " 1000000000.4957731,\n",
       " 1000000000.4532871,\n",
       " 1000000000.4749284,\n",
       " 1000000000.4142147,\n",
       " 1000000000.4225765,\n",
       " 1000000000.4391437,\n",
       " 1000000000.413873,\n",
       " 1000000000.4335831,\n",
       " 1000000000.4236923,\n",
       " 1000000000.4709426,\n",
       " 1000000000.4553379,\n",
       " 1000000000.343118,\n",
       " 1000000000.3099785,\n",
       " 1000000000.3200439,\n",
       " 1000000000.316211,\n",
       " 1000000000.3194569,\n",
       " 1000000000.4182,\n",
       " 1000000000.400923,\n",
       " 1000000000.3866805,\n",
       " 1000000000.3721882,\n",
       " 1000000000.3232307,\n",
       " 1000000000.291257,\n",
       " 1000000000.305295,\n",
       " 1000000000.3028557,\n",
       " 1000000000.2951914,\n",
       " 1000000000.275339,\n",
       " 1000000000.3464078,\n",
       " 1000000000.330787,\n",
       " 1000000000.3246322,\n",
       " 1000000000.3454435,\n",
       " 1000000000.4482763,\n",
       " 1000000000.4184837,\n",
       " 1000000000.3990878,\n",
       " 1000000000.4684876,\n",
       " 1000000000.4186534,\n",
       " 1000000000.4248477,\n",
       " 1000000000.3998256,\n",
       " 1000000000.4383729,\n",
       " 1000000000.4475276,\n",
       " 1000000000.4719254,\n",
       " 1000000000.4487808,\n",
       " 1000000000.4435267,\n",
       " 1000000000.4452395,\n",
       " 1000000000.4395419,\n",
       " 1000000000.4435034,\n",
       " 1000000000.458044,\n",
       " 1000000000.4540184,\n",
       " 1000000000.4259609,\n",
       " 1000000000.3741423]"
      ]
     },
     "execution_count": 5,
     "metadata": {},
     "output_type": "execute_result"
    }
   ],
   "source": [
    "g = online_mean(make_data(5, 100))\n",
    "print(type(g))\n",
    "list(g)"
   ]
  },
  {
   "cell_type": "markdown",
   "metadata": {},
   "source": [
    "### 2.1\n",
    "\n",
    "Implement the standard deviation algorithm as a generator function as\n",
    "\n",
    "```python\n",
    "def online_mean_dev(iterator):\n",
    "    BLA BLA\n",
    "    if n > 1:\n",
    "        stddev = math.sqrt(dev_accum/(n-1))\n",
    "        yield (n, value, mu, stddev)\n",
    "```"
   ]
  },
  {
   "cell_type": "code",
   "execution_count": 11,
   "metadata": {
    "collapsed": false
   },
   "outputs": [],
   "source": [
    "import math\n",
    "def online_mean_dev(iterator):\n",
    "    n = 0\n",
    "    mu = 0\n",
    "    dev_accum = 0\n",
    "    for value in iterator:\n",
    "        if n >= 1:\n",
    "            n += 1\n",
    "            delta = value - mu\n",
    "            mu = mu + delta/n\n",
    "            dev_accum = dev_accum + delta*(value - mu)\n",
    "            stddev = math.sqrt(dev_accum/(n-1))\n",
    "            yield (n, value, mu, stddev)\n",
    "        else:\n",
    "            n += 1\n",
    "            mu = value\n",
    "            yield (n, value, mu, 0)"
   ]
  },
  {
   "cell_type": "markdown",
   "metadata": {},
   "source": [
    "Here we make 100000 element data, and run this iterator on it (imagine running this on a time-series being slowly read from disk"
   ]
  },
  {
   "cell_type": "code",
   "execution_count": 58,
   "metadata": {
    "collapsed": false
   },
   "outputs": [],
   "source": [
    "data_with_stats = online_mean_dev(make_data(5, 100000))\n",
    "#list(data_with_stats)"
   ]
  },
  {
   "cell_type": "markdown",
   "metadata": {},
   "source": [
    "## Q3.\n",
    "\n",
    "Let's do Anomaly detection. Write a routine `is_ok`:\n",
    "\n",
    "```python\n",
    "def is_ok(level, t)\n",
    "```\n",
    "\n",
    "which takes a tuple like the one yielded by your code above and returns True if the value is inbetween `level`-$\\sigma$ of the mean."
   ]
  },
  {
   "cell_type": "code",
   "execution_count": 59,
   "metadata": {
    "collapsed": false
   },
   "outputs": [],
   "source": [
    "def is_ok(level,t):\n",
    "    diff = t[1] - t[2]\n",
    "#    print(diff)\n",
    "    if t[3] == 0:\n",
    "        if diff == 0: return True \n",
    "        else: return False\n",
    "    else:\n",
    "        nsigma = abs(diff/t[3])\n",
    "#        print(nsigma)\n",
    "        if nsigma < level: return True\n",
    "        else: return False"
   ]
  },
  {
   "cell_type": "markdown",
   "metadata": {},
   "source": [
    "We use this function to create a predicate passed through to `itertools.filterfalse` which is then used to obtain an iterator on the anomalies."
   ]
  },
  {
   "cell_type": "code",
   "execution_count": 60,
   "metadata": {
    "collapsed": true
   },
   "outputs": [],
   "source": [
    "from itertools import filterfalse\n",
    "pred = lambda t: is_ok(5, t)\n",
    "anomalies = filterfalse(pred, data_with_stats)"
   ]
  },
  {
   "cell_type": "markdown",
   "metadata": {},
   "source": [
    "We materialize the anomalies..."
   ]
  },
  {
   "cell_type": "code",
   "execution_count": 61,
   "metadata": {
    "collapsed": false
   },
   "outputs": [
    {
     "data": {
      "text/plain": [
       "[(5252, 999999984.8679287, 999999999.9661534, 2.891469236584855),\n",
       " (5497, 999999984.1350139, 999999999.9599606, 2.898139491881727),\n",
       " (6025, 1000000016.8132517, 999999999.9464177, 2.9056799314006336),\n",
       " (8973, 1000000015.2248049, 999999999.9548907, 2.895293880393277),\n",
       " (15247, 1000000016.2028623, 999999999.986835, 2.9035825088703655),\n",
       " (15989, 1000000014.7596158, 999999999.9862708, 2.904171573648156),\n",
       " (17120, 1000000017.3254101, 999999999.9884906, 2.8988612062544994),\n",
       " (17476, 999999984.6569301, 999999999.9881663, 2.9003633959223984),\n",
       " (18403, 1000000017.1114132, 999999999.9961855, 2.9058853541300897),\n",
       " (19045, 1000000015.2624334, 999999999.9968764, 2.909635994402627),\n",
       " (25908, 999999982.1915729, 1000000000.0080341, 2.9083065250407443),\n",
       " (27849, 999999983.8051348, 1000000000.0173457, 2.9135274387824226),\n",
       " (39033, 999999983.9595014, 1000000000.0094726, 2.904076328731311),\n",
       " (39802, 999999985.2516277, 1000000000.0090587, 2.904027786256553),\n",
       " (43033, 1000000018.4832474, 1000000000.0146494, 2.9034624508149305),\n",
       " (43646, 1000000014.9307086, 1000000000.0169594, 2.9063188447770276),\n",
       " (43910, 1000000015.4124589, 1000000000.0162966, 2.9059836951895033),\n",
       " (46322, 999999985.0412532, 1000000000.0132229, 2.9084955454396417),\n",
       " (47097, 999999984.9472761, 1000000000.0137126, 2.9100058056107816),\n",
       " (47774, 999999984.7766123, 1000000000.0150498, 2.9089289865513086),\n",
       " (49390, 1000000017.107255, 1000000000.0156393, 2.9114398925557015),\n",
       " (51729, 1000000015.1295617, 1000000000.0114231, 2.9095805049320145),\n",
       " (60330, 1000000015.7883012, 1000000000.0076642, 2.900727653286605),\n",
       " (62087, 999999985.358356, 1000000000.006754, 2.9017685444286636),\n",
       " (82767, 999999985.3779726, 1000000000.0005581, 2.891535884819693),\n",
       " (85138, 1000000015.1999453, 1000000000.0019426, 2.8913068283457757)]"
      ]
     },
     "execution_count": 61,
     "metadata": {},
     "output_type": "execute_result"
    }
   ],
   "source": [
    "list(anomalies)#materialize"
   ]
  },
  {
   "cell_type": "markdown",
   "metadata": {},
   "source": [
    "## To think of, but not hand in\n",
    "\n",
    "What kinds of anomalies will this algorithm pick up? What kinds would a shorter \"window\" of anomaly detection, like 100 points around the time in question pick? How might you create an algorithm which does window based averaging? (hint: the window size is small compared to the time series size). \n",
    "\n",
    "Finally think a bit of how you might implement all of this in a production environment..remember that data streaming in might get backed up when you handle an anomaly.\n",
    "\n",
    "(Some inspiration might accrue if you look at the docs for `collections.deque`)."
   ]
  },
  {
   "cell_type": "code",
   "execution_count": null,
   "metadata": {
    "collapsed": true
   },
   "outputs": [],
   "source": []
  }
 ],
 "metadata": {
  "kernelspec": {
   "display_name": "Python 3",
   "language": "python",
   "name": "python3"
  },
  "language_info": {
   "codemirror_mode": {
    "name": "ipython",
    "version": 3
   },
   "file_extension": ".py",
   "mimetype": "text/x-python",
   "name": "python",
   "nbconvert_exporter": "python",
   "pygments_lexer": "ipython3",
   "version": "3.5.1"
  }
 },
 "nbformat": 4,
 "nbformat_minor": 0
}
