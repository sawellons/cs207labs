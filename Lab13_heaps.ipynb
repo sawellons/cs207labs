{
 "cells": [
  {
   "cell_type": "markdown",
   "metadata": {
    "collapsed": true
   },
   "source": [
    "## Q1.  Max heap\n",
    "\n",
    "Implement a max heap instead of a min heap, by having the constructor explicitly pass the \"comparison\" operator in. Replace `min` and `del_min` by `dominant` and `del_dominant` methods. Change the classmethods to also take in the operator."
   ]
  },
  {
   "cell_type": "code",
   "execution_count": 37,
   "metadata": {
    "collapsed": true
   },
   "outputs": [],
   "source": [
    "import subprocess\n",
    "from IPython.display import Image\n",
    "def dotify(l, fname):\n",
    "    start = \"\"\"\n",
    "    digraph G {\n",
    "    nodesep=0.3;\n",
    "    ranksep=0.2;\n",
    "    margin=0.1;\n",
    "    node [shape=circle];\n",
    "    edge [arrowsize=0.8];\n",
    "    \"\"\"\n",
    "    end = \"}\"\n",
    "    labels=dict(enumerate(l))\n",
    "    for i, v in labels.items():\n",
    "        if i!=0 and 2*i < len(l):\n",
    "            line1 = \"{} -> {}[side=left];\\n\".format(i, 2*i)\n",
    "        else:\n",
    "            line1=\"\"\n",
    "        if i!=0 and 2*i + 1 < len(l):\n",
    "            line2 = \"{} -> {};\\n\".format(i, 2*i+1)\n",
    "        else:\n",
    "            line2 = \"\"\n",
    "        start = start + line1 + line2\n",
    "    end = \"\\n\".join(\"{}[label=\\\"{}\\\"]\".format(i, labels[i]) for i in labels if i!=0) + end\n",
    "    with open(fname+\".dot\",\"w\") as fd:\n",
    "        fd.write(start+end)\n",
    "    subprocess.call(['./treeplot.sh', fname])\n",
    "    \n",
    "def plotbtree(btree, fname):\n",
    "    start=\"\"\"\n",
    "    digraph G {\n",
    "    nodesep=0.3;\n",
    "    ranksep=0.2;\n",
    "    margin=0.1;\n",
    "    node [shape=circle];\n",
    "    edge [arrowsize=0.8];\n",
    "    \"\"\"\n",
    "    end = \"}\"\n",
    "    assert btree.isRoot(), \"Must start at root\"\n",
    "    lines=\"\"\n",
    "    labeldict={}\n",
    "    for t in btree.preorder():\n",
    "        if not t[1] in labeldict:\n",
    "            labeldict[t[1]]=t[0]\n",
    "        if not t[3] in labeldict:\n",
    "            labeldict[t[3]]=t[2]\n",
    "        lines = lines + \"\\\"{}\\\" -> \\\"{}\\\"[side={}];\\n\".format(t[1],t[3],t[4])\n",
    "    end=\"\\n\".join([\"\\\"{}\\\"[label=\\\"{}\\\"]\".format(k,v) for (k, v) in labeldict.items()])+end\n",
    "    start = start + lines +end\n",
    "    with open(fname+\".dot\",\"w\") as fd:\n",
    "        fd.write(start)\n",
    "    subprocess.call(['./treeplot.sh', fname])\n"
   ]
  },
  {
   "cell_type": "code",
   "execution_count": 38,
   "metadata": {
    "collapsed": false
   },
   "outputs": [
    {
     "data": {
      "text/plain": [
       "False"
      ]
     },
     "execution_count": 38,
     "metadata": {},
     "output_type": "execute_result"
    }
   ],
   "source": [
    "lt(3,2)"
   ]
  },
  {
   "cell_type": "code",
   "execution_count": 63,
   "metadata": {
    "collapsed": true
   },
   "outputs": [],
   "source": [
    "class BinaryHeap:\n",
    "    def __init__(self, comp):\n",
    "        self.storage=[None]\n",
    "        self.upto = 0\n",
    "        self.comp = comp\n",
    "        \n",
    "    @classmethod\n",
    "    def heapify_slow(cls, it, comp):\n",
    "        inst = cls(comp)\n",
    "        for i in it:\n",
    "            inst.insert(i)\n",
    "        return inst\n",
    "       \n",
    "    @classmethod\n",
    "    def heapify(cls, it, comp):\n",
    "        inst = cls(comp)\n",
    "        inst.storage = inst.storage + list(it)\n",
    "        fromhalfway = (len(inst.storage) - 1) // 2\n",
    "        inst.upto = len(inst.storage) - 1\n",
    "        counter = 0\n",
    "        while (fromhalfway > 0):\n",
    "            dotify(inst.storage, \"onheapifyimg\"+str(counter).zfill(2))\n",
    "            counter += 1\n",
    "            inst.sift_down(fromhalfway)\n",
    "            fromhalfway -= 1\n",
    "        dotify(inst.storage, \"onheapifyimg\"+str(counter).zfill(2))\n",
    "        return inst\n",
    "        \n",
    "        \n",
    "    def insert(self, value):\n",
    "        self.storage.append(value)\n",
    "        self.upto += 1\n",
    "        self.sift_up(self.upto)\n",
    "\n",
    "    def sift_up(self, i):\n",
    "        parent = i // 2\n",
    "        if parent > 0 and self.comp(self.storage[i], self.storage[parent]):\n",
    "            self.storage[i], self.storage[parent] = self.storage[parent], self.storage[i]\n",
    "            self.sift_up(parent)\n",
    "     \n",
    "    def _dom_child(self, i):\n",
    "        if 2*i + 1 > self.upto:\n",
    "            return 2*i\n",
    "        else:\n",
    "            if self.comp(self.storage[2*i], self.storage[2*i+1]): return 2*i\n",
    "            else: return 2*i + 1\n",
    "   \n",
    "    def sift_down(self, i):\n",
    "        if 2*i <= self.upto:\n",
    "            child = self._dom_child(i)\n",
    "            if self.comp(self.storage[child],self.storage[i]):\n",
    "                self.storage[child], self.storage[i] = self.storage[i], self.storage[child]\n",
    "                self.sift_down(child)\n",
    "        \n",
    "    def dominant(self):\n",
    "        return self.storage[1]\n",
    "    \n",
    "    def del_dominant(self):\n",
    "        domval = self.storage[1]\n",
    "        self.storage[1], self.storage[self.upto] = self.storage[self.upto], self.storage[1]\n",
    "        self.storage.pop()\n",
    "        self.upto -= 1\n",
    "        self.sift_down(1)\n",
    "        return domval\n"
   ]
  },
  {
   "cell_type": "markdown",
   "metadata": {},
   "source": [
    "Lets use your code to find the minimum as well as the maximum of the old array. Run the code in the following cells and make sure you did it right..."
   ]
  },
  {
   "cell_type": "code",
   "execution_count": 64,
   "metadata": {
    "collapsed": true
   },
   "outputs": [],
   "source": [
    "data = [1,8,5,9,23,2,45,6,7,99,-5]"
   ]
  },
  {
   "cell_type": "code",
   "execution_count": 65,
   "metadata": {
    "collapsed": false
   },
   "outputs": [
    {
     "name": "stdout",
     "output_type": "stream",
     "text": [
      "[None, -5, 1, 2, 6, 8, 5, 45, 9, 7, 99, 23]\n"
     ]
    },
    {
     "data": {
      "text/plain": [
       "-5"
      ]
     },
     "execution_count": 65,
     "metadata": {},
     "output_type": "execute_result"
    }
   ],
   "source": [
    "from operator import gt, lt\n",
    "bh = BinaryHeap.heapify(data, lt)\n",
    "print(bh.storage)\n",
    "bh.dominant()"
   ]
  },
  {
   "cell_type": "code",
   "execution_count": 66,
   "metadata": {
    "collapsed": false
   },
   "outputs": [
    {
     "name": "stdout",
     "output_type": "stream",
     "text": [
      "[None, 99, 23, 45, 9, 8, 2, 5, 6, 7, 1, -5]\n"
     ]
    },
    {
     "data": {
      "text/plain": [
       "99"
      ]
     },
     "execution_count": 66,
     "metadata": {},
     "output_type": "execute_result"
    }
   ],
   "source": [
    "bh = BinaryHeap.heapify(data, gt)\n",
    "print(bh.storage)\n",
    "bh.dominant()"
   ]
  },
  {
   "cell_type": "markdown",
   "metadata": {},
   "source": [
    "## Q2. Heapsort\n",
    "\n",
    "Heapsort is an algorithm that takes the idea of the selection sort algorithm and replces the inner loop by the use of a max-heap."
   ]
  },
  {
   "cell_type": "code",
   "execution_count": 67,
   "metadata": {
    "collapsed": true
   },
   "outputs": [],
   "source": [
    "def selection_sort(A):\n",
    "    for i in range(len(A)):\n",
    "        print(\"<<<\",A)\n",
    "        min_index = i\n",
    "        for j in range(i+1, len(A)):\n",
    "            if A[j] < A[min_index]:\n",
    "                min_index = j\n",
    "        A[i], A[min_index] = A[min_index], A[i]\n",
    "        print(\">>>\",A)"
   ]
  },
  {
   "cell_type": "code",
   "execution_count": 68,
   "metadata": {
    "collapsed": false
   },
   "outputs": [
    {
     "name": "stdout",
     "output_type": "stream",
     "text": [
      "<<< [1, 8, 5, 9, 23, 2, 45, 6, 7, 99, -5]\n",
      ">>> [-5, 8, 5, 9, 23, 2, 45, 6, 7, 99, 1]\n",
      "<<< [-5, 8, 5, 9, 23, 2, 45, 6, 7, 99, 1]\n",
      ">>> [-5, 1, 5, 9, 23, 2, 45, 6, 7, 99, 8]\n",
      "<<< [-5, 1, 5, 9, 23, 2, 45, 6, 7, 99, 8]\n",
      ">>> [-5, 1, 2, 9, 23, 5, 45, 6, 7, 99, 8]\n",
      "<<< [-5, 1, 2, 9, 23, 5, 45, 6, 7, 99, 8]\n",
      ">>> [-5, 1, 2, 5, 23, 9, 45, 6, 7, 99, 8]\n",
      "<<< [-5, 1, 2, 5, 23, 9, 45, 6, 7, 99, 8]\n",
      ">>> [-5, 1, 2, 5, 6, 9, 45, 23, 7, 99, 8]\n",
      "<<< [-5, 1, 2, 5, 6, 9, 45, 23, 7, 99, 8]\n",
      ">>> [-5, 1, 2, 5, 6, 7, 45, 23, 9, 99, 8]\n",
      "<<< [-5, 1, 2, 5, 6, 7, 45, 23, 9, 99, 8]\n",
      ">>> [-5, 1, 2, 5, 6, 7, 8, 23, 9, 99, 45]\n",
      "<<< [-5, 1, 2, 5, 6, 7, 8, 23, 9, 99, 45]\n",
      ">>> [-5, 1, 2, 5, 6, 7, 8, 9, 23, 99, 45]\n",
      "<<< [-5, 1, 2, 5, 6, 7, 8, 9, 23, 99, 45]\n",
      ">>> [-5, 1, 2, 5, 6, 7, 8, 9, 23, 99, 45]\n",
      "<<< [-5, 1, 2, 5, 6, 7, 8, 9, 23, 99, 45]\n",
      ">>> [-5, 1, 2, 5, 6, 7, 8, 9, 23, 45, 99]\n",
      "<<< [-5, 1, 2, 5, 6, 7, 8, 9, 23, 45, 99]\n",
      ">>> [-5, 1, 2, 5, 6, 7, 8, 9, 23, 45, 99]\n"
     ]
    }
   ],
   "source": [
    "selection_sort(data)"
   ]
  },
  {
   "cell_type": "markdown",
   "metadata": {},
   "source": [
    "The basic idea is this. First heapify the entire array. The max should then be the 1st element (save our placeholder None) of the heap's storage. Swap this max with the last element to store the maximum at the end. Now you've put in some new wierd value at the top of the heap and have lost the heap property. You have an additional element at the end.\n",
    "\n",
    "In-place in the array, without making any additional allocations, consider all but the last element to be the new \"heap\". What method in the heap class must we use to restore the heap property?\n",
    "\n",
    "Use this method to sort the array. Print the before and after for each iteration of the outer loop as above. What is the $O(n)$ for this method?"
   ]
  },
  {
   "cell_type": "code",
   "execution_count": 71,
   "metadata": {
    "collapsed": false
   },
   "outputs": [],
   "source": [
    "def heap_sort(A):\n",
    "    bh = BinaryHeap.heapify(A, gt)\n",
    "    na = bh.upto\n",
    "    while bh.upto > 0:\n",
    "        print(\"<<<\",bh.storage)\n",
    "        bh.storage[1], bh.storage[bh.upto] = bh.storage[bh.upto], bh.storage[1]\n",
    "        bh.upto -= 1\n",
    "        bh.sift_down(1)\n",
    "        print(\"<<<\",bh.storage)\n",
    "    bh.upto = na\n",
    "    print(\"===\", bh.storage)"
   ]
  },
  {
   "cell_type": "code",
   "execution_count": 72,
   "metadata": {
    "collapsed": false
   },
   "outputs": [
    {
     "name": "stdout",
     "output_type": "stream",
     "text": [
      "<<< [None, 99, 45, 8, 23, 6, 7, 2, 9, 5, 1, -5]\n",
      "<<< [None, 45, 23, 8, 9, 6, 7, 2, -5, 5, 1, 99]\n",
      "<<< [None, 45, 23, 8, 9, 6, 7, 2, -5, 5, 1, 99]\n",
      "<<< [None, 23, 9, 8, 5, 6, 7, 2, -5, 1, 45, 99]\n",
      "<<< [None, 23, 9, 8, 5, 6, 7, 2, -5, 1, 45, 99]\n",
      "<<< [None, 9, 6, 8, 5, 1, 7, 2, -5, 23, 45, 99]\n",
      "<<< [None, 9, 6, 8, 5, 1, 7, 2, -5, 23, 45, 99]\n",
      "<<< [None, 8, 6, 7, 5, 1, -5, 2, 9, 23, 45, 99]\n",
      "<<< [None, 8, 6, 7, 5, 1, -5, 2, 9, 23, 45, 99]\n",
      "<<< [None, 7, 6, 2, 5, 1, -5, 8, 9, 23, 45, 99]\n",
      "<<< [None, 7, 6, 2, 5, 1, -5, 8, 9, 23, 45, 99]\n",
      "<<< [None, 6, 5, 2, -5, 1, 7, 8, 9, 23, 45, 99]\n",
      "<<< [None, 6, 5, 2, -5, 1, 7, 8, 9, 23, 45, 99]\n",
      "<<< [None, 5, 1, 2, -5, 6, 7, 8, 9, 23, 45, 99]\n",
      "<<< [None, 5, 1, 2, -5, 6, 7, 8, 9, 23, 45, 99]\n",
      "<<< [None, 2, 1, -5, 5, 6, 7, 8, 9, 23, 45, 99]\n",
      "<<< [None, 2, 1, -5, 5, 6, 7, 8, 9, 23, 45, 99]\n",
      "<<< [None, 1, -5, 2, 5, 6, 7, 8, 9, 23, 45, 99]\n",
      "<<< [None, 1, -5, 2, 5, 6, 7, 8, 9, 23, 45, 99]\n",
      "<<< [None, -5, 1, 2, 5, 6, 7, 8, 9, 23, 45, 99]\n",
      "<<< [None, -5, 1, 2, 5, 6, 7, 8, 9, 23, 45, 99]\n",
      "<<< [None, -5, 1, 2, 5, 6, 7, 8, 9, 23, 45, 99]\n",
      "=== [None, -5, 1, 2, 5, 6, 7, 8, 9, 23, 45, 99]\n"
     ]
    }
   ],
   "source": [
    "heap_sort(data)"
   ]
  },
  {
   "cell_type": "markdown",
   "metadata": {},
   "source": [
    "*O(nlogn)*"
   ]
  },
  {
   "cell_type": "markdown",
   "metadata": {},
   "source": [
    "## Q3. Median maintenance\n",
    "\n",
    "Median maintenance is a very cool algorithm to find an online median. \n",
    "\n",
    "We create two arrays to test our implementation, using `np.median` to compute our answer..."
   ]
  },
  {
   "cell_type": "code",
   "execution_count": 73,
   "metadata": {
    "collapsed": false
   },
   "outputs": [],
   "source": [
    "import random\n",
    "import numpy as np"
   ]
  },
  {
   "cell_type": "code",
   "execution_count": 76,
   "metadata": {
    "collapsed": false
   },
   "outputs": [
    {
     "name": "stdout",
     "output_type": "stream",
     "text": [
      "150 424.5\n",
      "151 407.0\n"
     ]
    }
   ],
   "source": [
    "l = [random.randint(1,1000) for _ in range(150)]\n",
    "print(len(l), np.median(l))\n",
    "l2 = l + [random.randint(1,1000)]\n",
    "print(len(l2), np.median(l2))"
   ]
  },
  {
   "cell_type": "markdown",
   "metadata": {},
   "source": [
    "You will implement `def online_median(iterator)` which is a generaor yielding successive values of your online median. \n",
    "\n",
    "The algorithm is as follows:\n",
    "\n",
    "We'll use 2 heaps, a max heap for the lower half of the data, and a min-heap for the upper half. We take the first 2values in our data and assign the smaller value to the max heap, while the larger value goes to the min-heap. Then, as we \"insert\" subsequent values in one of the two heaps, the following holds: if we keep the number of elements in both heaps equal (for the even case) or at-most differing by one, the median is respectively the average of the two dominants or the dominant in the heap with one xtra item.\n",
    "\n",
    "What then is our strategy for this balanced insertion? Quite simple really: if a new value is not as dominant as the dominant value, add it to that heap. If it is more dominant, add it to the other. If two items in a row get added to the same heap, the heaps will be out of balance by more than one. In this case, take the dominant element from the larger heap and simply add it to the smaller one."
   ]
  },
  {
   "cell_type": "code",
   "execution_count": 77,
   "metadata": {
    "collapsed": false
   },
   "outputs": [],
   "source": [
    "def online_median(iterator):\n",
    "    n = 0\n",
    "    for value in iterator:\n",
    "        if n == 0:\n",
    "            v1 = value\n",
    "            n += 1\n",
    "            yield value\n",
    "        elif n == 1:\n",
    "            minheap = BinaryHeap.heapify([min(v1,value)], lt)\n",
    "            maxheap = BinaryHeap.heapify([max(v1,value)], gt)\n",
    "            n += 1\n",
    "            yield (v1 + value)/2\n",
    "        else:\n",
    "            if value < maxheap.dominant(): maxheap.insert(value)\n",
    "            else: minheap.insert(value)\n",
    "                \n",
    "            diff = maxheap.upto - minheap.upto\n",
    "            if diff == 1: yield maxheap.dominant()\n",
    "            elif diff == -1: yield minheap.dominant()\n",
    "            elif diff == 0: yield (maxheap.dominant()+minheap.dominant())/2.\n",
    "            elif diff == 2:\n",
    "                val = maxheap.del_dominant()\n",
    "                minheap.insert(val)\n",
    "                yield maxheap.dominant()\n",
    "            else:\n",
    "                val = minheap.del_dominant()\n",
    "                maxheap.insert(val)\n",
    "                yield minheap.dominant()\n",
    "            "
   ]
  },
  {
   "cell_type": "markdown",
   "metadata": {},
   "source": [
    "Do your answers match?"
   ]
  },
  {
   "cell_type": "code",
   "execution_count": 78,
   "metadata": {
    "collapsed": false
   },
   "outputs": [
    {
     "name": "stdout",
     "output_type": "stream",
     "text": [
      "424.5\n"
     ]
    },
    {
     "data": {
      "text/plain": [
       "[<matplotlib.lines.Line2D at 0x106ab6630>]"
      ]
     },
     "execution_count": 78,
     "metadata": {},
     "output_type": "execute_result"
    },
    {
     "data": {
      "image/png": "[encoded data removed]",
      "text/plain": [
       "<matplotlib.figure.Figure at 0x1069a6630>"
      ]
     },
     "metadata": {},
     "output_type": "display_data"
    }
   ],
   "source": [
    "%matplotlib inline\n",
    "import matplotlib.pyplot as plt\n",
    "medians = list(online_median(iter(l)))\n",
    "print(medians[-1])\n",
    "plt.plot(medians)"
   ]
  },
  {
   "cell_type": "code",
   "execution_count": 79,
   "metadata": {
    "collapsed": false
   },
   "outputs": [
    {
     "data": {
      "text/plain": [
       "407"
      ]
     },
     "execution_count": 79,
     "metadata": {},
     "output_type": "execute_result"
    }
   ],
   "source": [
    "list(online_median(iter(l2)))[-1]"
   ]
  },
  {
   "cell_type": "markdown",
   "metadata": {},
   "source": [
    "What is the $O(n)$ behavior of this median maintenance algorithm?"
   ]
  },
  {
   "cell_type": "markdown",
   "metadata": {},
   "source": [
    "*O(nlogn)*\n"
   ]
  },
  {
   "cell_type": "markdown",
   "metadata": {},
   "source": [
    "Lastly, lets repeat the analysis we did last time on the randomly generated data."
   ]
  },
  {
   "cell_type": "code",
   "execution_count": 80,
   "metadata": {
    "collapsed": true
   },
   "outputs": [],
   "source": [
    "from random import normalvariate, random\n",
    "from itertools import count\n",
    "def make_data(m, stop=None):\n",
    "    for _ in count():\n",
    "        if stop and _ > stop:\n",
    "            break\n",
    "        yield 1.0e09 + normalvariate(0, m*random() )"
   ]
  },
  {
   "cell_type": "code",
   "execution_count": 81,
   "metadata": {
    "collapsed": false
   },
   "outputs": [
    {
     "name": "stdout",
     "output_type": "stream",
     "text": [
      "<class 'generator'>\n"
     ]
    },
    {
     "data": {
      "text/plain": [
       "[1000000000.1177753,\n",
       " 1000000000.1203371,\n",
       " 1000000000.1190562,\n",
       " 1000000000.1177753,\n",
       " 1000000000.1153265,\n",
       " 1000000000.1177753,\n",
       " 1000000000.1203371,\n",
       " 1000000000.1177753,\n",
       " 1000000000.1190562,\n",
       " 1000000000.1203371]"
      ]
     },
     "execution_count": 81,
     "metadata": {},
     "output_type": "execute_result"
    }
   ],
   "source": [
    "g = online_median(make_data(5, 100))\n",
    "print(type(g))\n",
    "out = list(g)\n",
    "out[-10:]"
   ]
  },
  {
   "cell_type": "code",
   "execution_count": 82,
   "metadata": {
    "collapsed": false
   },
   "outputs": [
    {
     "data": {
      "text/plain": [
       "[<matplotlib.lines.Line2D at 0x106b31128>]"
      ]
     },
     "execution_count": 82,
     "metadata": {},
     "output_type": "execute_result"
    },
    {
     "data": {
      "image/png": "[encoded data removed]",
      "text/plain": [
       "<matplotlib.figure.Figure at 0x1069f1d30>"
      ]
     },
     "metadata": {},
     "output_type": "display_data"
    }
   ],
   "source": [
    "plt.plot(out)"
   ]
  },
  {
   "cell_type": "code",
   "execution_count": null,
   "metadata": {
    "collapsed": true
   },
   "outputs": [],
   "source": []
  }
 ],
 "metadata": {
  "kernelspec": {
   "display_name": "Python 3",
   "language": "python",
   "name": "python3"
  },
  "language_info": {
   "codemirror_mode": {
    "name": "ipython",
    "version": 3
   },
   "file_extension": ".py",
   "mimetype": "text/x-python",
   "name": "python",
   "nbconvert_exporter": "python",
   "pygments_lexer": "ipython3",
   "version": "3.5.1"
  }
 },
 "nbformat": 4,
 "nbformat_minor": 0
}
